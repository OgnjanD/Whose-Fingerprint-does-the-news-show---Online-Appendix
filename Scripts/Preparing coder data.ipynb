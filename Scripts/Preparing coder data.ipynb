{
 "cells": [
  {
   "cell_type": "code",
   "execution_count": 1,
   "metadata": {},
   "outputs": [],
   "source": [
    "import pandas as pd\n",
    "import re\n",
    "import sklearn\n",
    "from sklearn.model_selection import StratifiedShuffleSplit, StratifiedKFold\n",
    "import numpy as np"
   ]
  },
  {
   "cell_type": "code",
   "execution_count": 3,
   "metadata": {},
   "outputs": [],
   "source": [
    "vostok = pd.read_csv('vostok_clean.csv', sep = ',')\n",
    "sputnik = pd.read_csv('sputnik_clean.csv', sep = ',')\n",
    "n1 = pd.read_csv('n1_clean.csv', sep = ',')\n",
    "voa = pd.read_csv('voa_clean.csv', sep = ',')\n",
    "rfe = pd.read_csv('rfe_clean.csv', sep = ',')"
   ]
  },
  {
   "cell_type": "code",
   "execution_count": 4,
   "metadata": {},
   "outputs": [
    {
     "name": "stderr",
     "output_type": "stream",
     "text": [
      "C:\\Users\\LenovoPC\\Anaconda3\\lib\\site-packages\\ipykernel_launcher.py:1: FutureWarning: Sorting because non-concatenation axis is not aligned. A future version\n",
      "of pandas will change to not sort by default.\n",
      "\n",
      "To accept the future behavior, pass 'sort=True'.\n",
      "\n",
      "To retain the current behavior and silence the warning, pass sort=False\n",
      "\n",
      "  \"\"\"Entry point for launching an IPython kernel.\n"
     ]
    },
    {
     "data": {
      "text/plain": [
       "10599"
      ]
     },
     "execution_count": 4,
     "metadata": {},
     "output_type": "execute_result"
    }
   ],
   "source": [
    "all_data = pd.concat([vostok,sputnik, n1, voa, rfe], axis=0, ignore_index=True)\n",
    "len(all_data)"
   ]
  },
  {
   "cell_type": "markdown",
   "metadata": {},
   "source": [
    "Preparing month and country source columns for stratified sampling"
   ]
  },
  {
   "cell_type": "code",
   "execution_count": 454,
   "metadata": {},
   "outputs": [],
   "source": [
    "all_data['month'] = all_data['date']\n",
    "months = all_data['month'].tolist()\n",
    "months = [re.search('-(..)-', month).group(1) for month in months]\n",
    "all_data['month'] = pd.DataFrame(months)\n",
    "all_data['country-source'] =  all_data['source']\n",
    "countries = all_data['country-source'].tolist()\n",
    "countries = [re.search(\"-(.*)$\", country).group(1) for country in countries]\n",
    "all_data['country-source'] =  pd.DataFrame(countries)"
   ]
  },
  {
   "cell_type": "markdown",
   "metadata": {},
   "source": [
    "Here again we check for uniquness of rows, to see if any articles are shared across platforms and thus to remove them. "
   ]
  },
  {
   "cell_type": "code",
   "execution_count": 455,
   "metadata": {},
   "outputs": [
    {
     "data": {
      "text/plain": [
       "Unnamed: 0         3812\n",
       "category             23\n",
       "date               4631\n",
       "source                5\n",
       "text              10598\n",
       "title             10549\n",
       "month                 4\n",
       "country-source        2\n",
       "dtype: int64"
      ]
     },
     "execution_count": 455,
     "metadata": {},
     "output_type": "execute_result"
    }
   ],
   "source": [
    "all_data.nunique()"
   ]
  },
  {
   "cell_type": "markdown",
   "metadata": {},
   "source": [
    "As it is possible that titles are shared across outlets, we simply drop the one row where we have a repeated text. "
   ]
  },
  {
   "cell_type": "code",
   "execution_count": 456,
   "metadata": {},
   "outputs": [
    {
     "data": {
      "text/plain": [
       "10598"
      ]
     },
     "execution_count": 456,
     "metadata": {},
     "output_type": "execute_result"
    }
   ],
   "source": [
    "all_data = all_data.drop_duplicates('text')\n",
    "len(all_data)"
   ]
  },
  {
   "cell_type": "code",
   "execution_count": 457,
   "metadata": {},
   "outputs": [
    {
     "data": {
      "text/html": [
       "<div>\n",
       "<style scoped>\n",
       "    .dataframe tbody tr th:only-of-type {\n",
       "        vertical-align: middle;\n",
       "    }\n",
       "\n",
       "    .dataframe tbody tr th {\n",
       "        vertical-align: top;\n",
       "    }\n",
       "\n",
       "    .dataframe thead th {\n",
       "        text-align: right;\n",
       "    }\n",
       "</style>\n",
       "<table border=\"1\" class=\"dataframe\">\n",
       "  <thead>\n",
       "    <tr style=\"text-align: right;\">\n",
       "      <th></th>\n",
       "      <th>category</th>\n",
       "      <th>date</th>\n",
       "      <th>source</th>\n",
       "      <th>text</th>\n",
       "      <th>title</th>\n",
       "      <th>month</th>\n",
       "      <th>country-source</th>\n",
       "    </tr>\n",
       "  </thead>\n",
       "  <tbody>\n",
       "    <tr>\n",
       "      <th>0</th>\n",
       "      <td>Društvo</td>\n",
       "      <td>2018-11-02</td>\n",
       "      <td>Vostok-RU</td>\n",
       "      <td>PovodomDana slobode“, kojim se od ove godine u...</td>\n",
       "      <td>Beogradski dani slobode u Lugansku</td>\n",
       "      <td>11</td>\n",
       "      <td>RU</td>\n",
       "    </tr>\n",
       "    <tr>\n",
       "      <th>1</th>\n",
       "      <td>Rusija</td>\n",
       "      <td>2018-11-02</td>\n",
       "      <td>Vostok-RU</td>\n",
       "      <td>Uvodeći ograničenja Rusija je recipročno odgov...</td>\n",
       "      <td>Peskov: Sankcije Ukrajini iznuđena recipročna ...</td>\n",
       "      <td>11</td>\n",
       "      <td>RU</td>\n",
       "    </tr>\n",
       "    <tr>\n",
       "      <th>2</th>\n",
       "      <td>Ekonomijа</td>\n",
       "      <td>2018-11-02</td>\n",
       "      <td>Vostok-RU</td>\n",
       "      <td>\"Rosatom\" je uspešno pustio u rad reaktor prve...</td>\n",
       "      <td>„Rosatom“ pustio u rad reaktor prve plutajuće ...</td>\n",
       "      <td>11</td>\n",
       "      <td>RU</td>\n",
       "    </tr>\n",
       "    <tr>\n",
       "      <th>3</th>\n",
       "      <td>Region</td>\n",
       "      <td>2018-11-02</td>\n",
       "      <td>Vostok-RU</td>\n",
       "      <td>Crnogorsko pravosuđe nastavilo je progon lider...</td>\n",
       "      <td>Mandiću i Kneževiću opet oduzimaju pasoše</td>\n",
       "      <td>11</td>\n",
       "      <td>RU</td>\n",
       "    </tr>\n",
       "    <tr>\n",
       "      <th>4</th>\n",
       "      <td>Društvo</td>\n",
       "      <td>2018-11-02</td>\n",
       "      <td>Vostok-RU</td>\n",
       "      <td>Sudije u Hagu potpuno su se podelile u slučaju...</td>\n",
       "      <td>U Hagu donete dve suprotne odluke: Ne zna se k...</td>\n",
       "      <td>11</td>\n",
       "      <td>RU</td>\n",
       "    </tr>\n",
       "    <tr>\n",
       "      <th>5</th>\n",
       "      <td>Region</td>\n",
       "      <td>2018-11-02</td>\n",
       "      <td>Vostok-RU</td>\n",
       "      <td>Zabrana ulaska u Crnu Goru Matiji Bećkoviću, Č...</td>\n",
       "      <td>„Zabrana ulaska u Crnu Goru Bećkoviću osim što...</td>\n",
       "      <td>11</td>\n",
       "      <td>RU</td>\n",
       "    </tr>\n",
       "    <tr>\n",
       "      <th>6</th>\n",
       "      <td>Rusija</td>\n",
       "      <td>2018-11-02</td>\n",
       "      <td>Vostok-RU</td>\n",
       "      <td>Danas se odlučuje kakav će biti svet u naredni...</td>\n",
       "      <td>Putin: Danas se odlučuje kakav će biti svet u ...</td>\n",
       "      <td>11</td>\n",
       "      <td>RU</td>\n",
       "    </tr>\n",
       "    <tr>\n",
       "      <th>7</th>\n",
       "      <td>Politika</td>\n",
       "      <td>2018-11-02</td>\n",
       "      <td>Vostok-RU</td>\n",
       "      <td>Premijer Italije Đuzepe Konte kaže da se nada ...</td>\n",
       "      <td>Konte se nada nastavku kontakata sa Putinom</td>\n",
       "      <td>11</td>\n",
       "      <td>RU</td>\n",
       "    </tr>\n",
       "    <tr>\n",
       "      <th>8</th>\n",
       "      <td>Bezbednost</td>\n",
       "      <td>2018-11-02</td>\n",
       "      <td>Vostok-RU</td>\n",
       "      <td>Teroristi su isporučili dva kontejnera sa hlor...</td>\n",
       "      <td>Savčenko: Teroristi isporučili dva kontejnera ...</td>\n",
       "      <td>11</td>\n",
       "      <td>RU</td>\n",
       "    </tr>\n",
       "    <tr>\n",
       "      <th>9</th>\n",
       "      <td>Rusija</td>\n",
       "      <td>2018-11-02</td>\n",
       "      <td>Vostok-RU</td>\n",
       "      <td>Najnovija izjava britanskog ministra spoljnih ...</td>\n",
       "      <td>Zaharova: Izjava Hanta o Rusiji oštra retorika...</td>\n",
       "      <td>11</td>\n",
       "      <td>RU</td>\n",
       "    </tr>\n",
       "  </tbody>\n",
       "</table>\n",
       "</div>"
      ],
      "text/plain": [
       "     category        date     source  \\\n",
       "0     Društvo  2018-11-02  Vostok-RU   \n",
       "1      Rusija  2018-11-02  Vostok-RU   \n",
       "2   Ekonomijа  2018-11-02  Vostok-RU   \n",
       "3      Region  2018-11-02  Vostok-RU   \n",
       "4     Društvo  2018-11-02  Vostok-RU   \n",
       "5      Region  2018-11-02  Vostok-RU   \n",
       "6      Rusija  2018-11-02  Vostok-RU   \n",
       "7    Politika  2018-11-02  Vostok-RU   \n",
       "8  Bezbednost  2018-11-02  Vostok-RU   \n",
       "9      Rusija  2018-11-02  Vostok-RU   \n",
       "\n",
       "                                                text  \\\n",
       "0  PovodomDana slobode“, kojim se od ove godine u...   \n",
       "1  Uvodeći ograničenja Rusija je recipročno odgov...   \n",
       "2  \"Rosatom\" je uspešno pustio u rad reaktor prve...   \n",
       "3  Crnogorsko pravosuđe nastavilo je progon lider...   \n",
       "4  Sudije u Hagu potpuno su se podelile u slučaju...   \n",
       "5  Zabrana ulaska u Crnu Goru Matiji Bećkoviću, Č...   \n",
       "6  Danas se odlučuje kakav će biti svet u naredni...   \n",
       "7  Premijer Italije Đuzepe Konte kaže da se nada ...   \n",
       "8  Teroristi su isporučili dva kontejnera sa hlor...   \n",
       "9  Najnovija izjava britanskog ministra spoljnih ...   \n",
       "\n",
       "                                               title month country-source  \n",
       "0                 Beogradski dani slobode u Lugansku    11             RU  \n",
       "1  Peskov: Sankcije Ukrajini iznuđena recipročna ...    11             RU  \n",
       "2  „Rosatom“ pustio u rad reaktor prve plutajuće ...    11             RU  \n",
       "3          Mandiću i Kneževiću opet oduzimaju pasoše    11             RU  \n",
       "4  U Hagu donete dve suprotne odluke: Ne zna se k...    11             RU  \n",
       "5  „Zabrana ulaska u Crnu Goru Bećkoviću osim što...    11             RU  \n",
       "6  Putin: Danas se odlučuje kakav će biti svet u ...    11             RU  \n",
       "7        Konte se nada nastavku kontakata sa Putinom    11             RU  \n",
       "8  Savčenko: Teroristi isporučili dva kontejnera ...    11             RU  \n",
       "9  Zaharova: Izjava Hanta o Rusiji oštra retorika...    11             RU  "
      ]
     },
     "execution_count": 457,
     "metadata": {},
     "output_type": "execute_result"
    }
   ],
   "source": [
    "del all_data['Unnamed: 0']\n",
    "all_data.head(10)"
   ]
  },
  {
   "cell_type": "markdown",
   "metadata": {},
   "source": [
    "Check distribution before stratified sample"
   ]
  },
  {
   "cell_type": "code",
   "execution_count": 458,
   "metadata": {},
   "outputs": [
    {
     "data": {
      "text/plain": [
       "month  country-source\n",
       "01     RU                1038\n",
       "       USA               2039\n",
       "02     RU                1127\n",
       "       USA               1725\n",
       "11     RU                1181\n",
       "       USA               1143\n",
       "12     RU                1124\n",
       "       USA               1221\n",
       "dtype: int64"
      ]
     },
     "execution_count": 458,
     "metadata": {},
     "output_type": "execute_result"
    }
   ],
   "source": [
    "all_data.groupby([\"month\", \"country-source\"]).size()"
   ]
  },
  {
   "cell_type": "markdown",
   "metadata": {},
   "source": [
    "We extract a stratified sample across two columns. The stratified sample is proportionate to the original data set. As we are ultimately concerned with the overview based on source country we stratify according to that column, rather than individual sources. As each coder gets assigned a maximum of 370 articles and there are five coders, we are looking for 1570/10598 which is roughly 0.148. 1570 = 300 * 5 coders + 70 (40 training, 30 reliability)."
   ]
  },
  {
   "cell_type": "code",
   "execution_count": 462,
   "metadata": {},
   "outputs": [
    {
     "name": "stderr",
     "output_type": "stream",
     "text": [
      "C:\\Users\\LenovoPC\\Anaconda3\\lib\\site-packages\\ipykernel_launcher.py:3: FutureWarning: \n",
      "Passing list-likes to .loc or [] with any missing label will raise\n",
      "KeyError in the future, you can use .reindex() as an alternative.\n",
      "\n",
      "See the documentation here:\n",
      "https://pandas.pydata.org/pandas-docs/stable/indexing.html#deprecate-loc-reindex-listlike\n",
      "  This is separate from the ipykernel package so we can avoid doing imports until\n"
     ]
    },
    {
     "data": {
      "text/html": [
       "<div>\n",
       "<style scoped>\n",
       "    .dataframe tbody tr th:only-of-type {\n",
       "        vertical-align: middle;\n",
       "    }\n",
       "\n",
       "    .dataframe tbody tr th {\n",
       "        vertical-align: top;\n",
       "    }\n",
       "\n",
       "    .dataframe thead th {\n",
       "        text-align: right;\n",
       "    }\n",
       "</style>\n",
       "<table border=\"1\" class=\"dataframe\">\n",
       "  <thead>\n",
       "    <tr style=\"text-align: right;\">\n",
       "      <th></th>\n",
       "      <th>category</th>\n",
       "      <th>date</th>\n",
       "      <th>source</th>\n",
       "      <th>text</th>\n",
       "      <th>title</th>\n",
       "      <th>month</th>\n",
       "      <th>country-source</th>\n",
       "    </tr>\n",
       "  </thead>\n",
       "  <tbody>\n",
       "    <tr>\n",
       "      <th>10360</th>\n",
       "      <td>NaN</td>\n",
       "      <td>2019-02-11 15:13:59</td>\n",
       "      <td>RFE-USA</td>\n",
       "      <td>Cilj novoformiranog Koordinacionog tima za pra...</td>\n",
       "      <td>Đorđević: Stručnjaci da pomognu Vladi Srbije u...</td>\n",
       "      <td>02</td>\n",
       "      <td>USA</td>\n",
       "    </tr>\n",
       "    <tr>\n",
       "      <th>6727</th>\n",
       "      <td>Vesti</td>\n",
       "      <td>2019-01-28</td>\n",
       "      <td>N1-USA</td>\n",
       "      <td>[Policija je uhapsila zastupnika humanitarne o...</td>\n",
       "      <td>Uhapšen zastupnik humanitarne organizacije u N...</td>\n",
       "      <td>01</td>\n",
       "      <td>USA</td>\n",
       "    </tr>\n",
       "    <tr>\n",
       "      <th>7605</th>\n",
       "      <td>Kultura</td>\n",
       "      <td>2019-02-19</td>\n",
       "      <td>N1-USA</td>\n",
       "      <td>[Orkestar Muzikon, nastavlja \"Level Up!\" sezon...</td>\n",
       "      <td>\"Rock N Classic\": Kamerni orkestar Muzikon izv...</td>\n",
       "      <td>02</td>\n",
       "      <td>USA</td>\n",
       "    </tr>\n",
       "    <tr>\n",
       "      <th>7889</th>\n",
       "      <td>Vesti</td>\n",
       "      <td>2019-02-23</td>\n",
       "      <td>N1-USA</td>\n",
       "      <td>[Izvor: N1, Uz Beograd, protesti su održani u ...</td>\n",
       "      <td>Protesti i u Kragujevcu, Pasjanu, Jagodini, u ...</td>\n",
       "      <td>02</td>\n",
       "      <td>USA</td>\n",
       "    </tr>\n",
       "    <tr>\n",
       "      <th>10027</th>\n",
       "      <td>NaN</td>\n",
       "      <td>2019-01-17 18:46:42</td>\n",
       "      <td>RFE-USA</td>\n",
       "      <td>Policija u Gani saopštila je danas da je ubije...</td>\n",
       "      <td>Ubijen novinar u Gani koji je razotkrio korupc...</td>\n",
       "      <td>01</td>\n",
       "      <td>USA</td>\n",
       "    </tr>\n",
       "  </tbody>\n",
       "</table>\n",
       "</div>"
      ],
      "text/plain": [
       "      category                 date   source  \\\n",
       "10360      NaN  2019-02-11 15:13:59  RFE-USA   \n",
       "6727     Vesti           2019-01-28   N1-USA   \n",
       "7605   Kultura           2019-02-19   N1-USA   \n",
       "7889     Vesti           2019-02-23   N1-USA   \n",
       "10027      NaN  2019-01-17 18:46:42  RFE-USA   \n",
       "\n",
       "                                                    text  \\\n",
       "10360  Cilj novoformiranog Koordinacionog tima za pra...   \n",
       "6727   [Policija je uhapsila zastupnika humanitarne o...   \n",
       "7605   [Orkestar Muzikon, nastavlja \"Level Up!\" sezon...   \n",
       "7889   [Izvor: N1, Uz Beograd, protesti su održani u ...   \n",
       "10027  Policija u Gani saopštila je danas da je ubije...   \n",
       "\n",
       "                                                   title month country-source  \n",
       "10360  Đorđević: Stručnjaci da pomognu Vladi Srbije u...    02            USA  \n",
       "6727   Uhapšen zastupnik humanitarne organizacije u N...    01            USA  \n",
       "7605   \"Rock N Classic\": Kamerni orkestar Muzikon izv...    02            USA  \n",
       "7889   Protesti i u Kragujevcu, Pasjanu, Jagodini, u ...    02            USA  \n",
       "10027  Ubijen novinar u Gani koji je razotkrio korupc...    01            USA  "
      ]
     },
     "execution_count": 462,
     "metadata": {},
     "output_type": "execute_result"
    }
   ],
   "source": [
    "split = StratifiedShuffleSplit(n_splits=1, test_size=0.149, random_state=42)\n",
    "for train_index, test_index in split.split(all_data, all_data[[\"country-source\", 'month']]):\n",
    "    strat_test_set = all_data.loc[train_index]\n",
    "    strat_coder_set = all_data.loc[test_index]\n",
    "strat_coder_set.head()"
   ]
  },
  {
   "cell_type": "markdown",
   "metadata": {},
   "source": [
    "Let's check the distribution."
   ]
  },
  {
   "cell_type": "code",
   "execution_count": 463,
   "metadata": {},
   "outputs": [
    {
     "data": {
      "text/plain": [
       "1580"
      ]
     },
     "execution_count": 463,
     "metadata": {},
     "output_type": "execute_result"
    }
   ],
   "source": [
    "len(strat_coder_set)"
   ]
  },
  {
   "cell_type": "code",
   "execution_count": 464,
   "metadata": {},
   "outputs": [
    {
     "data": {
      "text/plain": [
       "month  country-source\n",
       "01     RU                155\n",
       "       USA               304\n",
       "02     RU                168\n",
       "       USA               257\n",
       "11     RU                176\n",
       "       USA               170\n",
       "12     RU                168\n",
       "       USA               182\n",
       "dtype: int64"
      ]
     },
     "execution_count": 464,
     "metadata": {},
     "output_type": "execute_result"
    }
   ],
   "source": [
    "strat_coder_set.groupby([\"month\", \"country-source\"]).size()"
   ]
  },
  {
   "cell_type": "markdown",
   "metadata": {},
   "source": [
    "The distribution by country and source is exactly as expected. All proportions of data are kept. Now we need to create five separate files for each coder, once again stratified. To do so we randomly drop ten articles so that we have exactly 1570 articles. Those 10 articles are returned to the testing dataset. "
   ]
  },
  {
   "cell_type": "code",
   "execution_count": 466,
   "metadata": {},
   "outputs": [
    {
     "data": {
      "text/plain": [
       "1570"
      ]
     },
     "execution_count": 466,
     "metadata": {},
     "output_type": "execute_result"
    }
   ],
   "source": [
    "random_ten = strat_coder_set.sample(10)\n",
    "droping = random_ten['text'].tolist()\n",
    "strat_coder_set = strat_coder_set[~strat_coder_set['text'].isin(droping)]\n",
    "strat_test_set= strat_test_set.append(random_ten)\n",
    "len(strat_coder_set)"
   ]
  },
  {
   "cell_type": "code",
   "execution_count": 467,
   "metadata": {},
   "outputs": [],
   "source": [
    "def repeated_split(x, dataset):\n",
    "    split = StratifiedShuffleSplit(n_splits=1,  test_size=x, random_state=42)\n",
    "    for train_index, test_index in split.split(dataset, dataset[[\"country-source\", 'month']]):\n",
    "        strat_train_set = dataset.iloc[train_index]\n",
    "        strat_test_set = dataset.iloc[test_index]\n",
    "    return strat_train_set, strat_test_set"
   ]
  },
  {
   "cell_type": "code",
   "execution_count": 468,
   "metadata": {},
   "outputs": [],
   "source": [
    "first_coder = repeated_split(0.19, strat_coder_set)\n",
    "second_coder = repeated_split(0.23, first_coder[0])\n",
    "third_coder = repeated_split(0.30, second_coder[0])\n",
    "fourth_coder = repeated_split(0.44, third_coder[0])\n",
    "fifth_coder = repeated_split(0.81, fourth_coder[0])"
   ]
  },
  {
   "cell_type": "code",
   "execution_count": 469,
   "metadata": {},
   "outputs": [],
   "source": [
    "damjan_data = first_coder[1]\n",
    "milica_data = second_coder[1]\n",
    "ognjan_data = third_coder[1]\n",
    "spela_data = fourth_coder[1]\n",
    "teo_data = fifth_coder[1]\n",
    "trai_reli = fifth_coder[0]"
   ]
  },
  {
   "cell_type": "code",
   "execution_count": 470,
   "metadata": {},
   "outputs": [
    {
     "data": {
      "text/plain": [
       "299"
      ]
     },
     "execution_count": 470,
     "metadata": {},
     "output_type": "execute_result"
    }
   ],
   "source": [
    "len(damjan_data)"
   ]
  },
  {
   "cell_type": "code",
   "execution_count": 471,
   "metadata": {},
   "outputs": [
    {
     "data": {
      "text/plain": [
       "293"
      ]
     },
     "execution_count": 471,
     "metadata": {},
     "output_type": "execute_result"
    }
   ],
   "source": [
    "len(milica_data)"
   ]
  },
  {
   "cell_type": "code",
   "execution_count": 472,
   "metadata": {},
   "outputs": [
    {
     "data": {
      "text/plain": [
       "294"
      ]
     },
     "execution_count": 472,
     "metadata": {},
     "output_type": "execute_result"
    }
   ],
   "source": [
    "len(ognjan_data)"
   ]
  },
  {
   "cell_type": "code",
   "execution_count": 473,
   "metadata": {},
   "outputs": [
    {
     "data": {
      "text/plain": [
       "301"
      ]
     },
     "execution_count": 473,
     "metadata": {},
     "output_type": "execute_result"
    }
   ],
   "source": [
    "len(spela_data)"
   ]
  },
  {
   "cell_type": "code",
   "execution_count": 474,
   "metadata": {},
   "outputs": [
    {
     "data": {
      "text/plain": [
       "311"
      ]
     },
     "execution_count": 474,
     "metadata": {},
     "output_type": "execute_result"
    }
   ],
   "source": [
    "len(teo_data)"
   ]
  },
  {
   "cell_type": "code",
   "execution_count": 475,
   "metadata": {},
   "outputs": [
    {
     "data": {
      "text/plain": [
       "72"
      ]
     },
     "execution_count": 475,
     "metadata": {},
     "output_type": "execute_result"
    }
   ],
   "source": [
    "len(trai_reli)"
   ]
  },
  {
   "cell_type": "markdown",
   "metadata": {},
   "source": [
    "As we can see, there is a slight disbalance in our data distribution due to our approach. This will be corrected by extracting 1 random article from the spela_data to the damjan_data. A random sample of 6 from teo_data goes to ognjan_data and a random sample of 5 from teo_data goes to milica_data, with 2 more random items from trai_reli to milica_data"
   ]
  },
  {
   "cell_type": "code",
   "execution_count": 476,
   "metadata": {},
   "outputs": [],
   "source": [
    "spela_damjan = spela_data.sample(n=1)\n",
    "droping = spela_damjan['text'].tolist()\n",
    "spela_data = spela_data[~spela_data['text'].isin(droping)]\n",
    "damjan_data = damjan_data.append(spela_damjan)\n",
    "teo_ognjan = teo_data.sample(6)\n",
    "droping = teo_ognjan['text'].tolist()\n",
    "teo_data = teo_data[~teo_data['text'].isin(droping)]\n",
    "ognjan_data = ognjan_data.append(teo_ognjan)\n",
    "teo_milica = teo_data.sample(5)\n",
    "droping = teo_milica['text'].tolist()\n",
    "teo_data = teo_data[~teo_data['text'].isin(droping)]\n",
    "milica_data = milica_data.append(teo_milica)\n",
    "trai_milica = trai_reli.sample(2)\n",
    "droping = trai_milica['text'].tolist()\n",
    "trai_reli = trai_reli[~trai_reli['text'].isin(droping)]\n",
    "milica_data = milica_data.append(trai_milica)"
   ]
  },
  {
   "cell_type": "code",
   "execution_count": 477,
   "metadata": {},
   "outputs": [
    {
     "data": {
      "text/plain": [
       "300"
      ]
     },
     "execution_count": 477,
     "metadata": {},
     "output_type": "execute_result"
    }
   ],
   "source": [
    "len(damjan_data)"
   ]
  },
  {
   "cell_type": "code",
   "execution_count": 478,
   "metadata": {},
   "outputs": [
    {
     "data": {
      "text/plain": [
       "300"
      ]
     },
     "execution_count": 478,
     "metadata": {},
     "output_type": "execute_result"
    }
   ],
   "source": [
    "len(milica_data)"
   ]
  },
  {
   "cell_type": "code",
   "execution_count": 479,
   "metadata": {},
   "outputs": [
    {
     "data": {
      "text/plain": [
       "300"
      ]
     },
     "execution_count": 479,
     "metadata": {},
     "output_type": "execute_result"
    }
   ],
   "source": [
    "len(ognjan_data)"
   ]
  },
  {
   "cell_type": "code",
   "execution_count": 480,
   "metadata": {},
   "outputs": [
    {
     "data": {
      "text/plain": [
       "300"
      ]
     },
     "execution_count": 480,
     "metadata": {},
     "output_type": "execute_result"
    }
   ],
   "source": [
    "len(spela_data)"
   ]
  },
  {
   "cell_type": "code",
   "execution_count": 481,
   "metadata": {},
   "outputs": [
    {
     "data": {
      "text/plain": [
       "300"
      ]
     },
     "execution_count": 481,
     "metadata": {},
     "output_type": "execute_result"
    }
   ],
   "source": [
    "len(teo_data)"
   ]
  },
  {
   "cell_type": "code",
   "execution_count": 482,
   "metadata": {},
   "outputs": [
    {
     "data": {
      "text/plain": [
       "70"
      ]
     },
     "execution_count": 482,
     "metadata": {},
     "output_type": "execute_result"
    }
   ],
   "source": [
    "len(trai_reli)"
   ]
  },
  {
   "cell_type": "markdown",
   "metadata": {},
   "source": [
    "Let's check that every observation in the datasets is unique. To do that we simply merge all data_sets and check for the number of unique values for text. We expect 1570. "
   ]
  },
  {
   "cell_type": "code",
   "execution_count": 483,
   "metadata": {},
   "outputs": [],
   "source": [
    "all_coders = pd.concat([damjan_data, milica_data, ognjan_data, spela_data, teo_data, trai_reli],axis=0, ignore_index=True)"
   ]
  },
  {
   "cell_type": "code",
   "execution_count": 484,
   "metadata": {},
   "outputs": [
    {
     "data": {
      "text/plain": [
       "category            17\n",
       "date               813\n",
       "source               5\n",
       "text              1570\n",
       "title             1569\n",
       "month                4\n",
       "country-source       2\n",
       "dtype: int64"
      ]
     },
     "execution_count": 484,
     "metadata": {},
     "output_type": "execute_result"
    }
   ],
   "source": [
    "all_coders.nunique()"
   ]
  },
  {
   "cell_type": "markdown",
   "metadata": {},
   "source": [
    "Finally we create separate training and reliability data sets."
   ]
  },
  {
   "cell_type": "code",
   "execution_count": 508,
   "metadata": {},
   "outputs": [],
   "source": [
    "trai_reli_new = repeated_split(0.57, trai_reli)\n",
    "training_data = trai_reli_new[1]\n",
    "reliability_data = trai_reli_new[0]"
   ]
  },
  {
   "cell_type": "code",
   "execution_count": 509,
   "metadata": {},
   "outputs": [
    {
     "data": {
      "text/plain": [
       "40"
      ]
     },
     "execution_count": 509,
     "metadata": {},
     "output_type": "execute_result"
    }
   ],
   "source": [
    "len(training_data)"
   ]
  },
  {
   "cell_type": "code",
   "execution_count": 510,
   "metadata": {},
   "outputs": [
    {
     "data": {
      "text/plain": [
       "30"
      ]
     },
     "execution_count": 510,
     "metadata": {},
     "output_type": "execute_result"
    }
   ],
   "source": [
    "len(reliability_data)"
   ]
  },
  {
   "cell_type": "code",
   "execution_count": 512,
   "metadata": {},
   "outputs": [],
   "source": [
    "strat_test_set.to_csv('test_data.csv', sep=',', encoding='utf-8')\n",
    "strat_coder_set.to_csv('coder_data.csv', sep = ',', encoding = 'utf-8')\n",
    "damjan_data.to_csv('damjan_data.csv', sep = ',', encoding = 'utf-8')\n",
    "milica_data.to_csv('milica_data.csv', sep = ',', encoding = 'utf-8')\n",
    "teo_data.to_csv('teo_data.csv', sep = ',', encoding = 'utf-8')\n",
    "ognjan_data.to_csv('ognjan_data.csv', sep = ',', encoding = 'utf-8')\n",
    "spela_data.to_csv('spela_data.csv', sep = ',', encoding = 'utf-8')\n",
    "trai_reli.to_csv('trai_reli.csv', sep = ',', encoding = 'utf-8')\n",
    "training_data.to_csv('training_data.csv', sep = ',', encoding = 'utf-8')\n",
    "reliability_data.to_csv('reliability_data.csv', sep = ',', encoding = 'utf-8')"
   ]
  },
  {
   "cell_type": "markdown",
   "metadata": {},
   "source": [
    "Now that we have the data,  the next step is to somehow transfer it into word doc format for each coder. "
   ]
  },
  {
   "cell_type": "code",
   "execution_count": 17,
   "metadata": {},
   "outputs": [],
   "source": [
    "damjan = pd.read_csv('damjan_data.csv', sep = ',', encoding = 'utf-8')"
   ]
  },
  {
   "cell_type": "code",
   "execution_count": 71,
   "metadata": {},
   "outputs": [],
   "source": [
    "def import_zip_print(file):\n",
    "    name = pd.read_csv(file , sep = ',', encoding = 'utf-8')\n",
    "    title = name['title'].tolist()\n",
    "    text = name['text'].tolist()\n",
    "    index = name.index.tolist()\n",
    "    index = ['UniqueID: ' + str(ind) for ind in index]\n",
    "    title = ['Title: ' + titl for titl in title]\n",
    "    text = ['Text: ' + tex for tex in text]\n",
    "    empty_list = []\n",
    "    empty_list.extend([list(a) for a in zip(index, title, text)])\n",
    "    return empty_list"
   ]
  },
  {
   "cell_type": "code",
   "execution_count": 78,
   "metadata": {},
   "outputs": [],
   "source": [
    "damjan_final = import_zip_print('damjan_data.csv')\n",
    "ognjan_final = import_zip_print('ognjan_data.csv')\n",
    "teo_final = import_zip_print('teo_data.csv')\n",
    "spela_final = import_zip_print('spela_data.csv')\n",
    "milica_final = import_zip_print('milica_data.csv')\n",
    "training_final = import_zip_print('training_data.csv')\n",
    "reliability_final = import_zip_print('reliability_data.csv')"
   ]
  },
  {
   "cell_type": "code",
   "execution_count": 6,
   "metadata": {},
   "outputs": [
    {
     "data": {
      "text/html": [
       "<div>\n",
       "<style scoped>\n",
       "    .dataframe tbody tr th:only-of-type {\n",
       "        vertical-align: middle;\n",
       "    }\n",
       "\n",
       "    .dataframe tbody tr th {\n",
       "        vertical-align: top;\n",
       "    }\n",
       "\n",
       "    .dataframe thead th {\n",
       "        text-align: right;\n",
       "    }\n",
       "</style>\n",
       "<table border=\"1\" class=\"dataframe\">\n",
       "  <thead>\n",
       "    <tr style=\"text-align: right;\">\n",
       "      <th></th>\n",
       "      <th>Unnamed: 0</th>\n",
       "      <th>category</th>\n",
       "      <th>date</th>\n",
       "      <th>source</th>\n",
       "      <th>text</th>\n",
       "      <th>title</th>\n",
       "      <th>month</th>\n",
       "      <th>country-source</th>\n",
       "    </tr>\n",
       "  </thead>\n",
       "  <tbody>\n",
       "    <tr>\n",
       "      <th>0</th>\n",
       "      <td>5890</td>\n",
       "      <td>Svet</td>\n",
       "      <td>2019-01-15</td>\n",
       "      <td>N1-USA</td>\n",
       "      <td>[Odbacivanje postignutog dogovora o Bregzitu u...</td>\n",
       "      <td>Junker: Povećan rizik od razlaza EU i Velike B...</td>\n",
       "      <td>1</td>\n",
       "      <td>USA</td>\n",
       "    </tr>\n",
       "    <tr>\n",
       "      <th>1</th>\n",
       "      <td>9290</td>\n",
       "      <td>NaN</td>\n",
       "      <td>2018-11-27 17:20:46</td>\n",
       "      <td>RFE-USA</td>\n",
       "      <td>Saudijski prijestolonasljednik Mohmed bin Salm...</td>\n",
       "      <td>Protesti u Tunisu zbog dolaska saudijskog princa</td>\n",
       "      <td>11</td>\n",
       "      <td>USA</td>\n",
       "    </tr>\n",
       "    <tr>\n",
       "      <th>2</th>\n",
       "      <td>3234</td>\n",
       "      <td>Politika</td>\n",
       "      <td>2018-12-19 15:27:00</td>\n",
       "      <td>Sputnik-RU</td>\n",
       "      <td>Predednik kosovske skupštine Kadri Veselji izj...</td>\n",
       "      <td>Veselji: Sporazum bez promene granica i bez ZSO</td>\n",
       "      <td>12</td>\n",
       "      <td>RU</td>\n",
       "    </tr>\n",
       "    <tr>\n",
       "      <th>3</th>\n",
       "      <td>7889</td>\n",
       "      <td>Vesti</td>\n",
       "      <td>2019-02-23</td>\n",
       "      <td>N1-USA</td>\n",
       "      <td>[Izvor: N1, Uz Beograd, protesti su održani u ...</td>\n",
       "      <td>Protesti i u Kragujevcu, Pasjanu, Jagodini, u ...</td>\n",
       "      <td>2</td>\n",
       "      <td>USA</td>\n",
       "    </tr>\n",
       "    <tr>\n",
       "      <th>4</th>\n",
       "      <td>1752</td>\n",
       "      <td>Ekonomijа</td>\n",
       "      <td>2019-02-03</td>\n",
       "      <td>Vostok-RU</td>\n",
       "      <td>Rusija će aktivno sarađivati sa evropskim zeml...</td>\n",
       "      <td>Rusija će sarađivati sa zemljama EU po pitanju...</td>\n",
       "      <td>2</td>\n",
       "      <td>RU</td>\n",
       "    </tr>\n",
       "    <tr>\n",
       "      <th>5</th>\n",
       "      <td>927</td>\n",
       "      <td>Analize</td>\n",
       "      <td>2018-12-17</td>\n",
       "      <td>Vostok-RU</td>\n",
       "      <td>Evropska Unija planira da podrži organizacije ...</td>\n",
       "      <td>EU planira da podrži aktiviste koji „brane dem...</td>\n",
       "      <td>12</td>\n",
       "      <td>RU</td>\n",
       "    </tr>\n",
       "    <tr>\n",
       "      <th>6</th>\n",
       "      <td>9127</td>\n",
       "      <td>NaN</td>\n",
       "      <td>2018-11-17 13:46:18</td>\n",
       "      <td>RFE-USA</td>\n",
       "      <td>Najmanje 40 ljudi, uglavnom civila, poginulo j...</td>\n",
       "      <td>Poginulo 40 ljudi u udarima koalicije predvođe...</td>\n",
       "      <td>11</td>\n",
       "      <td>USA</td>\n",
       "    </tr>\n",
       "    <tr>\n",
       "      <th>7</th>\n",
       "      <td>9670</td>\n",
       "      <td>NaN</td>\n",
       "      <td>2018-12-22 12:20:21</td>\n",
       "      <td>RFE-USA</td>\n",
       "      <td>Pokret \"Žuti prsluci\", koji je za danas planir...</td>\n",
       "      <td>Protest 'Žutih prsluka' u Parizu danas jedva p...</td>\n",
       "      <td>12</td>\n",
       "      <td>USA</td>\n",
       "    </tr>\n",
       "    <tr>\n",
       "      <th>8</th>\n",
       "      <td>8065</td>\n",
       "      <td>Vesti</td>\n",
       "      <td>2019-02-26</td>\n",
       "      <td>N1-USA</td>\n",
       "      <td>[Ministar odbrane Srbije Aleksandar Vulin reka...</td>\n",
       "      <td>Vulin: Srpska flota lovaca sa 14 migova najmod...</td>\n",
       "      <td>2</td>\n",
       "      <td>USA</td>\n",
       "    </tr>\n",
       "    <tr>\n",
       "      <th>9</th>\n",
       "      <td>5214</td>\n",
       "      <td>Svet</td>\n",
       "      <td>2018-12-18</td>\n",
       "      <td>N1-USA</td>\n",
       "      <td>[Evropski komesar za ekonomiju Pjer Moskovisi ...</td>\n",
       "      <td>Moskovisi želi da Italija izbegne sankcije</td>\n",
       "      <td>12</td>\n",
       "      <td>USA</td>\n",
       "    </tr>\n",
       "    <tr>\n",
       "      <th>10</th>\n",
       "      <td>94</td>\n",
       "      <td>Bezbednost</td>\n",
       "      <td>2018-11-06</td>\n",
       "      <td>Vostok-RU</td>\n",
       "      <td>Izrael će uraditi sve kako se ne bi ponovila t...</td>\n",
       "      <td>Izrael: Uradićemo sve kako se ne bi ponovila t...</td>\n",
       "      <td>11</td>\n",
       "      <td>RU</td>\n",
       "    </tr>\n",
       "    <tr>\n",
       "      <th>11</th>\n",
       "      <td>8979</td>\n",
       "      <td>NaN</td>\n",
       "      <td>2018-11-07 14:45:13</td>\n",
       "      <td>RFE-USA</td>\n",
       "      <td>Američki predsjednik Donald Trump upozorio je ...</td>\n",
       "      <td>Trump upozorio demokrate da ne vode istrage pr...</td>\n",
       "      <td>11</td>\n",
       "      <td>USA</td>\n",
       "    </tr>\n",
       "    <tr>\n",
       "      <th>12</th>\n",
       "      <td>4193</td>\n",
       "      <td>Svet</td>\n",
       "      <td>2019-02-12 18:57:00</td>\n",
       "      <td>Sputnik-RU</td>\n",
       "      <td>Venecuela će moći da isplati sve dugove Rusiji...</td>\n",
       "      <td>Venecuelanska opozicija obećava: Samo Gvaido m...</td>\n",
       "      <td>2</td>\n",
       "      <td>RU</td>\n",
       "    </tr>\n",
       "    <tr>\n",
       "      <th>13</th>\n",
       "      <td>8141</td>\n",
       "      <td>Vesti</td>\n",
       "      <td>2019-02-27</td>\n",
       "      <td>N1-USA</td>\n",
       "      <td>[Jedan od lidera Saveza za Srbiju Dragan Đilas...</td>\n",
       "      <td>Đilas, Stefanović i Zelenović na sastanku sa M...</td>\n",
       "      <td>2</td>\n",
       "      <td>USA</td>\n",
       "    </tr>\n",
       "    <tr>\n",
       "      <th>14</th>\n",
       "      <td>702</td>\n",
       "      <td>Rusija</td>\n",
       "      <td>2018-12-06</td>\n",
       "      <td>Vostok-RU</td>\n",
       "      <td>Ministarstvo spoljnih poslova Rusije je saopšt...</td>\n",
       "      <td>Moskva će recipročno odgovoriti na neprijatelj...</td>\n",
       "      <td>12</td>\n",
       "      <td>RU</td>\n",
       "    </tr>\n",
       "    <tr>\n",
       "      <th>15</th>\n",
       "      <td>1263</td>\n",
       "      <td>Bezbednost</td>\n",
       "      <td>2019-01-08</td>\n",
       "      <td>Vostok-RU</td>\n",
       "      <td>Ministarstvo odbrane Rusije je donelo odluku d...</td>\n",
       "      <td>Ruska vojska gradi infrastrukturu u Jakutiji z...</td>\n",
       "      <td>1</td>\n",
       "      <td>RU</td>\n",
       "    </tr>\n",
       "    <tr>\n",
       "      <th>16</th>\n",
       "      <td>5738</td>\n",
       "      <td>Vesti</td>\n",
       "      <td>2019-01-13</td>\n",
       "      <td>N1-USA</td>\n",
       "      <td>[Predsednik pokreta Dveri Boško Obradović uput...</td>\n",
       "      <td>Obradović u pismu upozorio Putina: Vlast želi ...</td>\n",
       "      <td>1</td>\n",
       "      <td>USA</td>\n",
       "    </tr>\n",
       "    <tr>\n",
       "      <th>17</th>\n",
       "      <td>560</td>\n",
       "      <td>Politika</td>\n",
       "      <td>2018-11-30</td>\n",
       "      <td>Vostok-RU</td>\n",
       "      <td>Sjedinjene Američke Države, kroz \"izolaciju\" š...</td>\n",
       "      <td>SAD: Agresija Rusije koju smo videli je neprih...</td>\n",
       "      <td>11</td>\n",
       "      <td>RU</td>\n",
       "    </tr>\n",
       "    <tr>\n",
       "      <th>18</th>\n",
       "      <td>7620</td>\n",
       "      <td>Vesti</td>\n",
       "      <td>2019-02-19</td>\n",
       "      <td>N1-USA</td>\n",
       "      <td>[Dečak M.J. (11) iz Pirota zadobio je teške te...</td>\n",
       "      <td>Dečak teže povređen kada je pao sa tvrđave u P...</td>\n",
       "      <td>2</td>\n",
       "      <td>USA</td>\n",
       "    </tr>\n",
       "    <tr>\n",
       "      <th>19</th>\n",
       "      <td>5311</td>\n",
       "      <td>Svet</td>\n",
       "      <td>2018-12-21</td>\n",
       "      <td>N1-USA</td>\n",
       "      <td>[U eksploziji metana u rudniku ČSM Sever u Sto...</td>\n",
       "      <td>U eksploziji metana u češkom rudniku poginulo ...</td>\n",
       "      <td>12</td>\n",
       "      <td>USA</td>\n",
       "    </tr>\n",
       "    <tr>\n",
       "      <th>20</th>\n",
       "      <td>3032</td>\n",
       "      <td>Svet</td>\n",
       "      <td>2018-12-07 22:38:00</td>\n",
       "      <td>Sputnik-RU</td>\n",
       "      <td>Američki predsednik Donald Tramp oštro je dana...</td>\n",
       "      <td>Tramp oštro o Tilersonu: Užasno neinteligentan...</td>\n",
       "      <td>12</td>\n",
       "      <td>RU</td>\n",
       "    </tr>\n",
       "    <tr>\n",
       "      <th>21</th>\n",
       "      <td>4354</td>\n",
       "      <td>Politika</td>\n",
       "      <td>2019-02-21 20:46:00</td>\n",
       "      <td>Sputnik-RU</td>\n",
       "      <td>Visoka predstavnica EU za spoljnu politiku i b...</td>\n",
       "      <td>Mogerinijeva: Uprkos poteškoćama, napredak u p...</td>\n",
       "      <td>2</td>\n",
       "      <td>RU</td>\n",
       "    </tr>\n",
       "    <tr>\n",
       "      <th>22</th>\n",
       "      <td>8788</td>\n",
       "      <td>Aktuelno</td>\n",
       "      <td>2019-02-04 22:59:49</td>\n",
       "      <td>VOA-USA</td>\n",
       "      <td>Organizacija Fridom Haus objavila je novi izve...</td>\n",
       "      <td>FH: Srbija pala iz grupe slobodnih u delimično...</td>\n",
       "      <td>2</td>\n",
       "      <td>USA</td>\n",
       "    </tr>\n",
       "    <tr>\n",
       "      <th>23</th>\n",
       "      <td>8991</td>\n",
       "      <td>NaN</td>\n",
       "      <td>2018-11-08 09:54:59</td>\n",
       "      <td>RFE-USA</td>\n",
       "      <td>Memorandum Srpske akademije nauka i umetnosti ...</td>\n",
       "      <td>Dimić: Memorandum SANU bio je pokušaj odbrane ...</td>\n",
       "      <td>11</td>\n",
       "      <td>USA</td>\n",
       "    </tr>\n",
       "    <tr>\n",
       "      <th>24</th>\n",
       "      <td>4335</td>\n",
       "      <td>Politika</td>\n",
       "      <td>2019-02-21 09:40:00</td>\n",
       "      <td>Sputnik-RU</td>\n",
       "      <td>Kompanija „Erbas“ će izložiti srpski H145M sa ...</td>\n",
       "      <td>Erbas želi srpski H145M u svom portfoliju</td>\n",
       "      <td>2</td>\n",
       "      <td>RU</td>\n",
       "    </tr>\n",
       "    <tr>\n",
       "      <th>25</th>\n",
       "      <td>6301</td>\n",
       "      <td>Vesti</td>\n",
       "      <td>2019-01-22</td>\n",
       "      <td>N1-USA</td>\n",
       "      <td>[Izvor: N1, Među prisutnim liderima - i srpski...</td>\n",
       "      <td>Vučić u Davosu tvrdi da će medijima biti bolje...</td>\n",
       "      <td>1</td>\n",
       "      <td>USA</td>\n",
       "    </tr>\n",
       "    <tr>\n",
       "      <th>26</th>\n",
       "      <td>8122</td>\n",
       "      <td>Vesti</td>\n",
       "      <td>2019-02-27</td>\n",
       "      <td>N1-USA</td>\n",
       "      <td>[Sindikati Republičkog geodetskog zavoda ponov...</td>\n",
       "      <td>Novi dan o štrajku zaposlenih u Katastru, gost...</td>\n",
       "      <td>2</td>\n",
       "      <td>USA</td>\n",
       "    </tr>\n",
       "    <tr>\n",
       "      <th>27</th>\n",
       "      <td>5963</td>\n",
       "      <td>Vesti</td>\n",
       "      <td>2019-01-16</td>\n",
       "      <td>N1-USA</td>\n",
       "      <td>[Izvor: N1, Obeležavanje prve godišnjice ubist...</td>\n",
       "      <td>Simo Spasić zloupotrebio godišnjicu ubistva Iv...</td>\n",
       "      <td>1</td>\n",
       "      <td>USA</td>\n",
       "    </tr>\n",
       "    <tr>\n",
       "      <th>28</th>\n",
       "      <td>5708</td>\n",
       "      <td>Vesti</td>\n",
       "      <td>2019-01-03</td>\n",
       "      <td>N1-USA</td>\n",
       "      <td>[Pripadnici Ministarstva unutrašnjih poslova u...</td>\n",
       "      <td>Stariji čovek udarao devojku u glavu i telo pr...</td>\n",
       "      <td>1</td>\n",
       "      <td>USA</td>\n",
       "    </tr>\n",
       "    <tr>\n",
       "      <th>29</th>\n",
       "      <td>851</td>\n",
       "      <td>Rusija</td>\n",
       "      <td>2018-12-14</td>\n",
       "      <td>Vostok-RU</td>\n",
       "      <td>Rusija je podsetila na zahtev SSSR-a da američ...</td>\n",
       "      <td>Moskva: Prema Memorandumu iz 1960. američka vo...</td>\n",
       "      <td>12</td>\n",
       "      <td>RU</td>\n",
       "    </tr>\n",
       "    <tr>\n",
       "      <th>...</th>\n",
       "      <td>...</td>\n",
       "      <td>...</td>\n",
       "      <td>...</td>\n",
       "      <td>...</td>\n",
       "      <td>...</td>\n",
       "      <td>...</td>\n",
       "      <td>...</td>\n",
       "      <td>...</td>\n",
       "    </tr>\n",
       "    <tr>\n",
       "      <th>70</th>\n",
       "      <td>8373</td>\n",
       "      <td>Aktuelno</td>\n",
       "      <td>2018-11-25 13:09:04</td>\n",
       "      <td>VOA-USA</td>\n",
       "      <td>U Kaliforniji je nastavljena potraga za nestal...</td>\n",
       "      <td>Požar u Kaliforniji suzbijen, i dalje stotine ...</td>\n",
       "      <td>11</td>\n",
       "      <td>USA</td>\n",
       "    </tr>\n",
       "    <tr>\n",
       "      <th>71</th>\n",
       "      <td>4111</td>\n",
       "      <td>Svet</td>\n",
       "      <td>2019-02-07 23:42:00</td>\n",
       "      <td>Sputnik-RU</td>\n",
       "      <td>Velika Britanija smatra da Kosovo ima pravo na...</td>\n",
       "      <td>Britanija podržala formiranje kosovske vojske</td>\n",
       "      <td>2</td>\n",
       "      <td>RU</td>\n",
       "    </tr>\n",
       "    <tr>\n",
       "      <th>72</th>\n",
       "      <td>5333</td>\n",
       "      <td>Region</td>\n",
       "      <td>2018-12-22</td>\n",
       "      <td>N1-USA</td>\n",
       "      <td>[Najveća makedonska opoziciona partija VMRO-DP...</td>\n",
       "      <td>Makedonska opozicija oglasom traži kandidata z...</td>\n",
       "      <td>12</td>\n",
       "      <td>USA</td>\n",
       "    </tr>\n",
       "    <tr>\n",
       "      <th>73</th>\n",
       "      <td>6513</td>\n",
       "      <td>Region</td>\n",
       "      <td>2019-01-25</td>\n",
       "      <td>N1-USA</td>\n",
       "      <td>[Ministar unutrašnjih poslova Republike Srpske...</td>\n",
       "      <td>Smenjeno više načelnika uprava u MUP-u Republi...</td>\n",
       "      <td>1</td>\n",
       "      <td>USA</td>\n",
       "    </tr>\n",
       "    <tr>\n",
       "      <th>74</th>\n",
       "      <td>445</td>\n",
       "      <td>Politika</td>\n",
       "      <td>2018-11-25</td>\n",
       "      <td>Vostok-RU</td>\n",
       "      <td>I pre nego što su uvođenjem drakonskih taksa f...</td>\n",
       "      <td>Separatisti u Prištini zapretili hapšenjem ruk...</td>\n",
       "      <td>11</td>\n",
       "      <td>RU</td>\n",
       "    </tr>\n",
       "    <tr>\n",
       "      <th>75</th>\n",
       "      <td>9240</td>\n",
       "      <td>NaN</td>\n",
       "      <td>2018-11-24 08:20:27</td>\n",
       "      <td>RFE-USA</td>\n",
       "      <td>(Mišljenja izrečena u komentaru ne odražavaju ...</td>\n",
       "      <td>Milinović: Naprednjačko srbovanje nema meru</td>\n",
       "      <td>11</td>\n",
       "      <td>USA</td>\n",
       "    </tr>\n",
       "    <tr>\n",
       "      <th>76</th>\n",
       "      <td>2884</td>\n",
       "      <td>Politika</td>\n",
       "      <td>2018-11-29 19:18:00</td>\n",
       "      <td>Sputnik-RU</td>\n",
       "      <td>Zbog statusa Srba na Kosovu i Metohiji, Srbija...</td>\n",
       "      <td>„Da li je Beriša monstrum? Jeste. Da li je teš...</td>\n",
       "      <td>11</td>\n",
       "      <td>RU</td>\n",
       "    </tr>\n",
       "    <tr>\n",
       "      <th>77</th>\n",
       "      <td>7363</td>\n",
       "      <td>Vesti</td>\n",
       "      <td>2019-02-15</td>\n",
       "      <td>N1-USA</td>\n",
       "      <td>[U Srbiji će danas biti pretežno oblačno sa ki...</td>\n",
       "      <td>Danas pretežno oblačno s kišom, na planinama sneg</td>\n",
       "      <td>2</td>\n",
       "      <td>USA</td>\n",
       "    </tr>\n",
       "    <tr>\n",
       "      <th>78</th>\n",
       "      <td>1868</td>\n",
       "      <td>Politika</td>\n",
       "      <td>2019-02-08</td>\n",
       "      <td>Vostok-RU</td>\n",
       "      <td>Papa Franja spreman je da vidi da li će vođa v...</td>\n",
       "      <td>Vatikan bi mogao posredovati u rešavanju krize...</td>\n",
       "      <td>2</td>\n",
       "      <td>RU</td>\n",
       "    </tr>\n",
       "    <tr>\n",
       "      <th>79</th>\n",
       "      <td>6522</td>\n",
       "      <td>Vesti</td>\n",
       "      <td>2019-01-25</td>\n",
       "      <td>N1-USA</td>\n",
       "      <td>[Borko Stefanović, jedan od lidera Saveza za S...</td>\n",
       "      <td>Stefanović: Što je više Vesića i bahatog lagan...</td>\n",
       "      <td>1</td>\n",
       "      <td>USA</td>\n",
       "    </tr>\n",
       "    <tr>\n",
       "      <th>80</th>\n",
       "      <td>2109</td>\n",
       "      <td>Politika</td>\n",
       "      <td>2019-02-19</td>\n",
       "      <td>Vostok-RU</td>\n",
       "      <td>Ivica Dačić je na pitanje novinara da li je zv...</td>\n",
       "      <td>Dačić: Zvanična ponuda Beograda Prištini je ra...</td>\n",
       "      <td>2</td>\n",
       "      <td>RU</td>\n",
       "    </tr>\n",
       "    <tr>\n",
       "      <th>81</th>\n",
       "      <td>4186</td>\n",
       "      <td>Politika</td>\n",
       "      <td>2019-02-12 16:22:00</td>\n",
       "      <td>Sputnik-RU</td>\n",
       "      <td>Privremene prištinske institucije jednoglasno ...</td>\n",
       "      <td>Priština objavila koliko novca će izdvojiti za...</td>\n",
       "      <td>2</td>\n",
       "      <td>RU</td>\n",
       "    </tr>\n",
       "    <tr>\n",
       "      <th>82</th>\n",
       "      <td>4798</td>\n",
       "      <td>Kultura</td>\n",
       "      <td>2018-11-22</td>\n",
       "      <td>N1-USA</td>\n",
       "      <td>[Svečanom akademijom, Narodno pozorište u Beog...</td>\n",
       "      <td>Narodno pozorište obeležilo 150 godina postojanja</td>\n",
       "      <td>11</td>\n",
       "      <td>USA</td>\n",
       "    </tr>\n",
       "    <tr>\n",
       "      <th>83</th>\n",
       "      <td>1721</td>\n",
       "      <td>Rusija</td>\n",
       "      <td>2019-02-02</td>\n",
       "      <td>Vostok-RU</td>\n",
       "      <td>Predsednik Srbije Aleksandar Vučić i ambasador...</td>\n",
       "      <td>Čepurin: Namera Moskve da radi na daljem produ...</td>\n",
       "      <td>2</td>\n",
       "      <td>RU</td>\n",
       "    </tr>\n",
       "    <tr>\n",
       "      <th>84</th>\n",
       "      <td>4408</td>\n",
       "      <td>Svet</td>\n",
       "      <td>2019-02-24 14:48:00</td>\n",
       "      <td>Sputnik-RU</td>\n",
       "      <td>Avion na letu za Dubai vanredno je sleteo u Či...</td>\n",
       "      <td>Drama na letu za Dubai: Otmičar zapucao, pilot...</td>\n",
       "      <td>2</td>\n",
       "      <td>RU</td>\n",
       "    </tr>\n",
       "    <tr>\n",
       "      <th>85</th>\n",
       "      <td>5225</td>\n",
       "      <td>Svet</td>\n",
       "      <td>2018-12-19</td>\n",
       "      <td>N1-USA</td>\n",
       "      <td>[SAD razmatraju potpuno povlačenje svojih snag...</td>\n",
       "      <td>SAD razmatraju potpuno povlačenje svojih snaga...</td>\n",
       "      <td>12</td>\n",
       "      <td>USA</td>\n",
       "    </tr>\n",
       "    <tr>\n",
       "      <th>86</th>\n",
       "      <td>7871</td>\n",
       "      <td>Vesti</td>\n",
       "      <td>2019-02-23</td>\n",
       "      <td>N1-USA</td>\n",
       "      <td>[Gradonačelnik Zagreba Milan Bandić poručio je...</td>\n",
       "      <td>Bandić: Sledimo geslo Nikole Tesle i okrenimo ...</td>\n",
       "      <td>2</td>\n",
       "      <td>USA</td>\n",
       "    </tr>\n",
       "    <tr>\n",
       "      <th>87</th>\n",
       "      <td>603</td>\n",
       "      <td>Rusija</td>\n",
       "      <td>2018-12-02</td>\n",
       "      <td>Vostok-RU</td>\n",
       "      <td>Izjava predsednika Rusije Vladimira Putina da ...</td>\n",
       "      <td>Rusija neće uvoditi nikakva recipročna ogranič...</td>\n",
       "      <td>12</td>\n",
       "      <td>RU</td>\n",
       "    </tr>\n",
       "    <tr>\n",
       "      <th>88</th>\n",
       "      <td>4519</td>\n",
       "      <td>Svet</td>\n",
       "      <td>2018-11-12</td>\n",
       "      <td>N1-USA</td>\n",
       "      <td>[Brazil će se povući iz sporazuma UN o migraci...</td>\n",
       "      <td>Kad Bolsonaro stupi na dužnost, Brazil se povl...</td>\n",
       "      <td>11</td>\n",
       "      <td>USA</td>\n",
       "    </tr>\n",
       "    <tr>\n",
       "      <th>89</th>\n",
       "      <td>1270</td>\n",
       "      <td>Bezbednost</td>\n",
       "      <td>2019-01-08</td>\n",
       "      <td>Vostok-RU</td>\n",
       "      <td>U Rusiji se radi na novoj krstarećoj raketiKal...</td>\n",
       "      <td>Rusija radi na novoj krstarećoj raketi „Kaliba...</td>\n",
       "      <td>1</td>\n",
       "      <td>RU</td>\n",
       "    </tr>\n",
       "    <tr>\n",
       "      <th>90</th>\n",
       "      <td>7940</td>\n",
       "      <td>Svet</td>\n",
       "      <td>2019-02-24</td>\n",
       "      <td>N1-USA</td>\n",
       "      <td>[Iran je prvi put lansirao krstareću raketu s ...</td>\n",
       "      <td>Iran prvi put lansirao krstareću raketu s podm...</td>\n",
       "      <td>2</td>\n",
       "      <td>USA</td>\n",
       "    </tr>\n",
       "    <tr>\n",
       "      <th>91</th>\n",
       "      <td>1252</td>\n",
       "      <td>Rusija</td>\n",
       "      <td>2019-01-06</td>\n",
       "      <td>Vostok-RU</td>\n",
       "      <td>Britanske vlasti se pripremaju za nove pokušaj...</td>\n",
       "      <td>Klincevič: Britanske vlasti se pripremaju za n...</td>\n",
       "      <td>1</td>\n",
       "      <td>RU</td>\n",
       "    </tr>\n",
       "    <tr>\n",
       "      <th>92</th>\n",
       "      <td>424</td>\n",
       "      <td>Region</td>\n",
       "      <td>2018-11-24</td>\n",
       "      <td>Vostok-RU</td>\n",
       "      <td>Ja ne znam šta je to crnogorski identitet, men...</td>\n",
       "      <td>Vučurović: Nekadašnji bijeli orao, koji je pos...</td>\n",
       "      <td>11</td>\n",
       "      <td>RU</td>\n",
       "    </tr>\n",
       "    <tr>\n",
       "      <th>93</th>\n",
       "      <td>3231</td>\n",
       "      <td>Politika</td>\n",
       "      <td>2018-12-19 14:11:00</td>\n",
       "      <td>Sputnik-RU</td>\n",
       "      <td>Predsednik Srbije Aleksandar Vučić, koji borav...</td>\n",
       "      <td>Vučić obeležio slavu u pravoslavnoj crkvi u Br...</td>\n",
       "      <td>12</td>\n",
       "      <td>RU</td>\n",
       "    </tr>\n",
       "    <tr>\n",
       "      <th>94</th>\n",
       "      <td>8159</td>\n",
       "      <td>Svet</td>\n",
       "      <td>2019-02-27</td>\n",
       "      <td>N1-USA</td>\n",
       "      <td>[Pakistanska vojska je saopštila da je oborila...</td>\n",
       "      <td>Pakistan oborio dva indijska vojna aviona u Ka...</td>\n",
       "      <td>2</td>\n",
       "      <td>USA</td>\n",
       "    </tr>\n",
       "    <tr>\n",
       "      <th>95</th>\n",
       "      <td>5570</td>\n",
       "      <td>Svet</td>\n",
       "      <td>2019-01-01</td>\n",
       "      <td>N1-USA</td>\n",
       "      <td>[Novoizabrani predsednik Brazila Žair Bolsonar...</td>\n",
       "      <td>Žair Bolsonaro položio zakletvu i preuzeo dužn...</td>\n",
       "      <td>1</td>\n",
       "      <td>USA</td>\n",
       "    </tr>\n",
       "    <tr>\n",
       "      <th>96</th>\n",
       "      <td>7274</td>\n",
       "      <td>Vesti</td>\n",
       "      <td>2019-02-14</td>\n",
       "      <td>N1-USA</td>\n",
       "      <td>[Zadatak neke prelazne ili vlade stručnjaka tr...</td>\n",
       "      <td>Đilas: Zadatak prelazne vlade treba da bude re...</td>\n",
       "      <td>2</td>\n",
       "      <td>USA</td>\n",
       "    </tr>\n",
       "    <tr>\n",
       "      <th>97</th>\n",
       "      <td>8835</td>\n",
       "      <td>Amerika</td>\n",
       "      <td>2019-02-16 15:54:21</td>\n",
       "      <td>VOA-USA</td>\n",
       "      <td>Vatikan je saopštio da je Papa Franja doneo od...</td>\n",
       "      <td>Kardinal optužen za seksualno zlostavljanje is...</td>\n",
       "      <td>2</td>\n",
       "      <td>USA</td>\n",
       "    </tr>\n",
       "    <tr>\n",
       "      <th>98</th>\n",
       "      <td>6235</td>\n",
       "      <td>Region</td>\n",
       "      <td>2019-01-21</td>\n",
       "      <td>N1-USA</td>\n",
       "      <td>[Makedonska opoziciona partija VMRO DPMNE podn...</td>\n",
       "      <td>Makedonska opozicija traži od Ustavnog suda da...</td>\n",
       "      <td>1</td>\n",
       "      <td>USA</td>\n",
       "    </tr>\n",
       "    <tr>\n",
       "      <th>99</th>\n",
       "      <td>2837</td>\n",
       "      <td>Politika</td>\n",
       "      <td>2018-11-27 17:00:00</td>\n",
       "      <td>Sputnik-RU</td>\n",
       "      <td>Portparolka EU Maja Kocijančič je povodom osta...</td>\n",
       "      <td>Brisel ponovo upozorava Prištinu: Provokativno...</td>\n",
       "      <td>11</td>\n",
       "      <td>RU</td>\n",
       "    </tr>\n",
       "  </tbody>\n",
       "</table>\n",
       "<p>100 rows × 8 columns</p>\n",
       "</div>"
      ],
      "text/plain": [
       "    Unnamed: 0    category                 date      source  \\\n",
       "0         5890        Svet           2019-01-15      N1-USA   \n",
       "1         9290         NaN  2018-11-27 17:20:46     RFE-USA   \n",
       "2         3234    Politika  2018-12-19 15:27:00  Sputnik-RU   \n",
       "3         7889       Vesti           2019-02-23      N1-USA   \n",
       "4         1752   Ekonomijа           2019-02-03   Vostok-RU   \n",
       "5          927     Analize           2018-12-17   Vostok-RU   \n",
       "6         9127         NaN  2018-11-17 13:46:18     RFE-USA   \n",
       "7         9670         NaN  2018-12-22 12:20:21     RFE-USA   \n",
       "8         8065       Vesti           2019-02-26      N1-USA   \n",
       "9         5214        Svet           2018-12-18      N1-USA   \n",
       "10          94  Bezbednost           2018-11-06   Vostok-RU   \n",
       "11        8979         NaN  2018-11-07 14:45:13     RFE-USA   \n",
       "12        4193        Svet  2019-02-12 18:57:00  Sputnik-RU   \n",
       "13        8141       Vesti           2019-02-27      N1-USA   \n",
       "14         702      Rusija           2018-12-06   Vostok-RU   \n",
       "15        1263  Bezbednost           2019-01-08   Vostok-RU   \n",
       "16        5738       Vesti           2019-01-13      N1-USA   \n",
       "17         560    Politika           2018-11-30   Vostok-RU   \n",
       "18        7620       Vesti           2019-02-19      N1-USA   \n",
       "19        5311        Svet           2018-12-21      N1-USA   \n",
       "20        3032        Svet  2018-12-07 22:38:00  Sputnik-RU   \n",
       "21        4354    Politika  2019-02-21 20:46:00  Sputnik-RU   \n",
       "22        8788    Aktuelno  2019-02-04 22:59:49     VOA-USA   \n",
       "23        8991         NaN  2018-11-08 09:54:59     RFE-USA   \n",
       "24        4335    Politika  2019-02-21 09:40:00  Sputnik-RU   \n",
       "25        6301       Vesti           2019-01-22      N1-USA   \n",
       "26        8122       Vesti           2019-02-27      N1-USA   \n",
       "27        5963       Vesti           2019-01-16      N1-USA   \n",
       "28        5708       Vesti           2019-01-03      N1-USA   \n",
       "29         851      Rusija           2018-12-14   Vostok-RU   \n",
       "..         ...         ...                  ...         ...   \n",
       "70        8373    Aktuelno  2018-11-25 13:09:04     VOA-USA   \n",
       "71        4111        Svet  2019-02-07 23:42:00  Sputnik-RU   \n",
       "72        5333      Region           2018-12-22      N1-USA   \n",
       "73        6513      Region           2019-01-25      N1-USA   \n",
       "74         445    Politika           2018-11-25   Vostok-RU   \n",
       "75        9240         NaN  2018-11-24 08:20:27     RFE-USA   \n",
       "76        2884    Politika  2018-11-29 19:18:00  Sputnik-RU   \n",
       "77        7363       Vesti           2019-02-15      N1-USA   \n",
       "78        1868    Politika           2019-02-08   Vostok-RU   \n",
       "79        6522       Vesti           2019-01-25      N1-USA   \n",
       "80        2109    Politika           2019-02-19   Vostok-RU   \n",
       "81        4186    Politika  2019-02-12 16:22:00  Sputnik-RU   \n",
       "82        4798     Kultura           2018-11-22      N1-USA   \n",
       "83        1721      Rusija           2019-02-02   Vostok-RU   \n",
       "84        4408        Svet  2019-02-24 14:48:00  Sputnik-RU   \n",
       "85        5225        Svet           2018-12-19      N1-USA   \n",
       "86        7871       Vesti           2019-02-23      N1-USA   \n",
       "87         603      Rusija           2018-12-02   Vostok-RU   \n",
       "88        4519        Svet           2018-11-12      N1-USA   \n",
       "89        1270  Bezbednost           2019-01-08   Vostok-RU   \n",
       "90        7940        Svet           2019-02-24      N1-USA   \n",
       "91        1252      Rusija           2019-01-06   Vostok-RU   \n",
       "92         424      Region           2018-11-24   Vostok-RU   \n",
       "93        3231    Politika  2018-12-19 14:11:00  Sputnik-RU   \n",
       "94        8159        Svet           2019-02-27      N1-USA   \n",
       "95        5570        Svet           2019-01-01      N1-USA   \n",
       "96        7274       Vesti           2019-02-14      N1-USA   \n",
       "97        8835     Amerika  2019-02-16 15:54:21     VOA-USA   \n",
       "98        6235      Region           2019-01-21      N1-USA   \n",
       "99        2837    Politika  2018-11-27 17:00:00  Sputnik-RU   \n",
       "\n",
       "                                                 text  \\\n",
       "0   [Odbacivanje postignutog dogovora o Bregzitu u...   \n",
       "1   Saudijski prijestolonasljednik Mohmed bin Salm...   \n",
       "2   Predednik kosovske skupštine Kadri Veselji izj...   \n",
       "3   [Izvor: N1, Uz Beograd, protesti su održani u ...   \n",
       "4   Rusija će aktivno sarađivati sa evropskim zeml...   \n",
       "5   Evropska Unija planira da podrži organizacije ...   \n",
       "6   Najmanje 40 ljudi, uglavnom civila, poginulo j...   \n",
       "7   Pokret \"Žuti prsluci\", koji je za danas planir...   \n",
       "8   [Ministar odbrane Srbije Aleksandar Vulin reka...   \n",
       "9   [Evropski komesar za ekonomiju Pjer Moskovisi ...   \n",
       "10  Izrael će uraditi sve kako se ne bi ponovila t...   \n",
       "11  Američki predsjednik Donald Trump upozorio je ...   \n",
       "12  Venecuela će moći da isplati sve dugove Rusiji...   \n",
       "13  [Jedan od lidera Saveza za Srbiju Dragan Đilas...   \n",
       "14  Ministarstvo spoljnih poslova Rusije je saopšt...   \n",
       "15  Ministarstvo odbrane Rusije je donelo odluku d...   \n",
       "16  [Predsednik pokreta Dveri Boško Obradović uput...   \n",
       "17  Sjedinjene Američke Države, kroz \"izolaciju\" š...   \n",
       "18  [Dečak M.J. (11) iz Pirota zadobio je teške te...   \n",
       "19  [U eksploziji metana u rudniku ČSM Sever u Sto...   \n",
       "20  Američki predsednik Donald Tramp oštro je dana...   \n",
       "21  Visoka predstavnica EU za spoljnu politiku i b...   \n",
       "22  Organizacija Fridom Haus objavila je novi izve...   \n",
       "23  Memorandum Srpske akademije nauka i umetnosti ...   \n",
       "24  Kompanija „Erbas“ će izložiti srpski H145M sa ...   \n",
       "25  [Izvor: N1, Među prisutnim liderima - i srpski...   \n",
       "26  [Sindikati Republičkog geodetskog zavoda ponov...   \n",
       "27  [Izvor: N1, Obeležavanje prve godišnjice ubist...   \n",
       "28  [Pripadnici Ministarstva unutrašnjih poslova u...   \n",
       "29  Rusija je podsetila na zahtev SSSR-a da američ...   \n",
       "..                                                ...   \n",
       "70  U Kaliforniji je nastavljena potraga za nestal...   \n",
       "71  Velika Britanija smatra da Kosovo ima pravo na...   \n",
       "72  [Najveća makedonska opoziciona partija VMRO-DP...   \n",
       "73  [Ministar unutrašnjih poslova Republike Srpske...   \n",
       "74  I pre nego što su uvođenjem drakonskih taksa f...   \n",
       "75  (Mišljenja izrečena u komentaru ne odražavaju ...   \n",
       "76  Zbog statusa Srba na Kosovu i Metohiji, Srbija...   \n",
       "77  [U Srbiji će danas biti pretežno oblačno sa ki...   \n",
       "78  Papa Franja spreman je da vidi da li će vođa v...   \n",
       "79  [Borko Stefanović, jedan od lidera Saveza za S...   \n",
       "80  Ivica Dačić je na pitanje novinara da li je zv...   \n",
       "81  Privremene prištinske institucije jednoglasno ...   \n",
       "82  [Svečanom akademijom, Narodno pozorište u Beog...   \n",
       "83  Predsednik Srbije Aleksandar Vučić i ambasador...   \n",
       "84  Avion na letu za Dubai vanredno je sleteo u Či...   \n",
       "85  [SAD razmatraju potpuno povlačenje svojih snag...   \n",
       "86  [Gradonačelnik Zagreba Milan Bandić poručio je...   \n",
       "87  Izjava predsednika Rusije Vladimira Putina da ...   \n",
       "88  [Brazil će se povući iz sporazuma UN o migraci...   \n",
       "89  U Rusiji se radi na novoj krstarećoj raketiKal...   \n",
       "90  [Iran je prvi put lansirao krstareću raketu s ...   \n",
       "91  Britanske vlasti se pripremaju za nove pokušaj...   \n",
       "92  Ja ne znam šta je to crnogorski identitet, men...   \n",
       "93  Predsednik Srbije Aleksandar Vučić, koji borav...   \n",
       "94  [Pakistanska vojska je saopštila da je oborila...   \n",
       "95  [Novoizabrani predsednik Brazila Žair Bolsonar...   \n",
       "96  [Zadatak neke prelazne ili vlade stručnjaka tr...   \n",
       "97  Vatikan je saopštio da je Papa Franja doneo od...   \n",
       "98  [Makedonska opoziciona partija VMRO DPMNE podn...   \n",
       "99  Portparolka EU Maja Kocijančič je povodom osta...   \n",
       "\n",
       "                                                title  month country-source  \n",
       "0   Junker: Povećan rizik od razlaza EU i Velike B...      1            USA  \n",
       "1    Protesti u Tunisu zbog dolaska saudijskog princa     11            USA  \n",
       "2     Veselji: Sporazum bez promene granica i bez ZSO     12             RU  \n",
       "3   Protesti i u Kragujevcu, Pasjanu, Jagodini, u ...      2            USA  \n",
       "4   Rusija će sarađivati sa zemljama EU po pitanju...      2             RU  \n",
       "5   EU planira da podrži aktiviste koji „brane dem...     12             RU  \n",
       "6   Poginulo 40 ljudi u udarima koalicije predvođe...     11            USA  \n",
       "7   Protest 'Žutih prsluka' u Parizu danas jedva p...     12            USA  \n",
       "8   Vulin: Srpska flota lovaca sa 14 migova najmod...      2            USA  \n",
       "9          Moskovisi želi da Italija izbegne sankcije     12            USA  \n",
       "10  Izrael: Uradićemo sve kako se ne bi ponovila t...     11             RU  \n",
       "11  Trump upozorio demokrate da ne vode istrage pr...     11            USA  \n",
       "12  Venecuelanska opozicija obećava: Samo Gvaido m...      2             RU  \n",
       "13  Đilas, Stefanović i Zelenović na sastanku sa M...      2            USA  \n",
       "14  Moskva će recipročno odgovoriti na neprijatelj...     12             RU  \n",
       "15  Ruska vojska gradi infrastrukturu u Jakutiji z...      1             RU  \n",
       "16  Obradović u pismu upozorio Putina: Vlast želi ...      1            USA  \n",
       "17  SAD: Agresija Rusije koju smo videli je neprih...     11             RU  \n",
       "18  Dečak teže povređen kada je pao sa tvrđave u P...      2            USA  \n",
       "19  U eksploziji metana u češkom rudniku poginulo ...     12            USA  \n",
       "20  Tramp oštro o Tilersonu: Užasno neinteligentan...     12             RU  \n",
       "21  Mogerinijeva: Uprkos poteškoćama, napredak u p...      2             RU  \n",
       "22  FH: Srbija pala iz grupe slobodnih u delimično...      2            USA  \n",
       "23  Dimić: Memorandum SANU bio je pokušaj odbrane ...     11            USA  \n",
       "24          Erbas želi srpski H145M u svom portfoliju      2             RU  \n",
       "25  Vučić u Davosu tvrdi da će medijima biti bolje...      1            USA  \n",
       "26  Novi dan o štrajku zaposlenih u Katastru, gost...      2            USA  \n",
       "27  Simo Spasić zloupotrebio godišnjicu ubistva Iv...      1            USA  \n",
       "28  Stariji čovek udarao devojku u glavu i telo pr...      1            USA  \n",
       "29  Moskva: Prema Memorandumu iz 1960. američka vo...     12             RU  \n",
       "..                                                ...    ...            ...  \n",
       "70  Požar u Kaliforniji suzbijen, i dalje stotine ...     11            USA  \n",
       "71      Britanija podržala formiranje kosovske vojske      2             RU  \n",
       "72  Makedonska opozicija oglasom traži kandidata z...     12            USA  \n",
       "73  Smenjeno više načelnika uprava u MUP-u Republi...      1            USA  \n",
       "74  Separatisti u Prištini zapretili hapšenjem ruk...     11             RU  \n",
       "75        Milinović: Naprednjačko srbovanje nema meru     11            USA  \n",
       "76  „Da li je Beriša monstrum? Jeste. Da li je teš...     11             RU  \n",
       "77  Danas pretežno oblačno s kišom, na planinama sneg      2            USA  \n",
       "78  Vatikan bi mogao posredovati u rešavanju krize...      2             RU  \n",
       "79  Stefanović: Što je više Vesića i bahatog lagan...      1            USA  \n",
       "80  Dačić: Zvanična ponuda Beograda Prištini je ra...      2             RU  \n",
       "81  Priština objavila koliko novca će izdvojiti za...      2             RU  \n",
       "82  Narodno pozorište obeležilo 150 godina postojanja     11            USA  \n",
       "83  Čepurin: Namera Moskve da radi na daljem produ...      2             RU  \n",
       "84  Drama na letu za Dubai: Otmičar zapucao, pilot...      2             RU  \n",
       "85  SAD razmatraju potpuno povlačenje svojih snaga...     12            USA  \n",
       "86  Bandić: Sledimo geslo Nikole Tesle i okrenimo ...      2            USA  \n",
       "87  Rusija neće uvoditi nikakva recipročna ogranič...     12             RU  \n",
       "88  Kad Bolsonaro stupi na dužnost, Brazil se povl...     11            USA  \n",
       "89  Rusija radi na novoj krstarećoj raketi „Kaliba...      1             RU  \n",
       "90  Iran prvi put lansirao krstareću raketu s podm...      2            USA  \n",
       "91  Klincevič: Britanske vlasti se pripremaju za n...      1             RU  \n",
       "92  Vučurović: Nekadašnji bijeli orao, koji je pos...     11             RU  \n",
       "93  Vučić obeležio slavu u pravoslavnoj crkvi u Br...     12             RU  \n",
       "94  Pakistan oborio dva indijska vojna aviona u Ka...      2            USA  \n",
       "95  Žair Bolsonaro položio zakletvu i preuzeo dužn...      1            USA  \n",
       "96  Đilas: Zadatak prelazne vlade treba da bude re...      2            USA  \n",
       "97  Kardinal optužen za seksualno zlostavljanje is...      2            USA  \n",
       "98  Makedonska opozicija traži od Ustavnog suda da...      1            USA  \n",
       "99  Brisel ponovo upozorava Prištinu: Provokativno...     11             RU  \n",
       "\n",
       "[100 rows x 8 columns]"
      ]
     },
     "execution_count": 6,
     "metadata": {},
     "output_type": "execute_result"
    }
   ],
   "source": [
    "damjan_final = pd.read_csv('teo_data.csv')\n",
    "damjan_final[:100]"
   ]
  },
  {
   "cell_type": "code",
   "execution_count": 4,
   "metadata": {},
   "outputs": [],
   "source": [
    "damjan = pd.read_csv('coder_1_data.csv')\n",
    "milica = pd.read_csv('coder_2_data.csv')\n",
    "ognjan = pd.read_csv('coder_5_data.csv')\n",
    "teo = pd.read_csv('coder_3_data.csv')\n",
    "spela = pd.read_csv('coder_4_data.csv')"
   ]
  },
  {
   "cell_type": "code",
   "execution_count": 6,
   "metadata": {},
   "outputs": [],
   "source": [
    "all_data = pd.concat([coder_1, coder_2, coder_5, coder_3, coder_4])"
   ]
  },
  {
   "cell_type": "markdown",
   "metadata": {},
   "source": [
    "From this point we organize each coder article set into a Word document. "
   ]
  },
  {
   "cell_type": "markdown",
   "metadata": {},
   "source": [
    "Having obtained training responses from coders we check their intepretation of the codebook. "
   ]
  }
 ],
 "metadata": {
  "kernelspec": {
   "display_name": "Python 3",
   "language": "python",
   "name": "python3"
  },
  "language_info": {
   "codemirror_mode": {
    "name": "ipython",
    "version": 3
   },
   "file_extension": ".py",
   "mimetype": "text/x-python",
   "name": "python",
   "nbconvert_exporter": "python",
   "pygments_lexer": "ipython3",
   "version": "3.7.4"
  }
 },
 "nbformat": 4,
 "nbformat_minor": 2
}
