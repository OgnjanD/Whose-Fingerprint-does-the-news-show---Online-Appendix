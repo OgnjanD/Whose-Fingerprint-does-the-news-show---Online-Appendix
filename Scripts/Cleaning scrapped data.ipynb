{
 "cells": [
  {
   "cell_type": "code",
   "execution_count": 1,
   "metadata": {},
   "outputs": [],
   "source": [
    "import pandas as pd\n",
    "import numpy as np\n",
    "import re as re\n",
    "import transliterate\n",
    "from transliterate import translit, get_available_language_codes\n"
   ]
  },
  {
   "cell_type": "code",
   "execution_count": 3,
   "metadata": {},
   "outputs": [],
   "source": [
    "def log_progress(sequence, every=None, size=None, name='Items'):\n",
    "    from ipywidgets import IntProgress, HTML, VBox\n",
    "    from IPython.display import display\n",
    "\n",
    "    is_iterator = False\n",
    "    if size is None:\n",
    "        try:\n",
    "            size = len(sequence)\n",
    "        except TypeError:\n",
    "            is_iterator = True\n",
    "    if size is not None:\n",
    "        if every is None:\n",
    "            if size <= 200:\n",
    "                every = 1\n",
    "            else:\n",
    "                every = int(size / size)     \n",
    "    else:\n",
    "        assert every is not None, 'sequence is iterator, set every'\n",
    "\n",
    "    if is_iterator:\n",
    "        progress = IntProgress(min=0, max=1, value=1)\n",
    "        progress.bar_style = 'info'\n",
    "    else:\n",
    "        progress = IntProgress(min=0, max=size, value=0)\n",
    "    label = HTML()\n",
    "    box = VBox(children=[label, progress])\n",
    "    display(box)\n",
    "\n",
    "    index = 0\n",
    "    try:\n",
    "        for index, record in enumerate(sequence, 1):\n",
    "            if index == 1 or index % every == 0:\n",
    "                if is_iterator:\n",
    "                    label.value = '{name}: {index} / ?'.format(\n",
    "                        name=name,\n",
    "                        index=index\n",
    "                    )\n",
    "                else:\n",
    "                    progress.value = index\n",
    "                    label.value = u'{name}: {index} / {size}'.format(\n",
    "                        name=name,\n",
    "                        index=index,\n",
    "                        size=size\n",
    "                    )\n",
    "            yield record\n",
    "    except:\n",
    "        progress.bar_style = 'danger'\n",
    "        raise\n",
    "    else:\n",
    "        progress.bar_style = 'success'\n",
    "        progress.value = index\n",
    "        label.value = \"{name}: {index}\".format(\n",
    "            name=name,\n",
    "            index=str(index or '?')\n",
    "        )"
   ]
  },
  {
   "cell_type": "markdown",
   "metadata": {},
   "source": [
    "## Sputnik "
   ]
  },
  {
   "cell_type": "code",
   "execution_count": 121,
   "metadata": {},
   "outputs": [],
   "source": [
    "sputnik = pd.read_csv(\"sputnik.csv\", sep = \"\\t\")"
   ]
  },
  {
   "cell_type": "code",
   "execution_count": 122,
   "metadata": {},
   "outputs": [],
   "source": [
    "titles = sputnik['title'].tolist()\n",
    "texts = sputnik['text'].tolist()\n",
    "lead_texts = sputnik['lead_text'].tolist()\n",
    "categories = sputnik['category'].tolist()"
   ]
  },
  {
   "cell_type": "markdown",
   "metadata": {},
   "source": [
    "## Edit and take cyrillic characters to Latin"
   ]
  },
  {
   "cell_type": "code",
   "execution_count": 123,
   "metadata": {},
   "outputs": [],
   "source": [
    "titles = [re.search('name\">(.+?)</h1>', title).group(1) for title in titles]\n",
    "lead_texts = [re.sub('[<p>|</p>]', \"\", lead_text) for lead_text in lead_texts]\n",
    "texts = [''.join(re.findall('p>(.+?)</p', text)) for text in texts]\n",
    "texts = [re.sub(r\"\\xa0|<p>|\\u200b\",  \" \", text) for text in texts]\n",
    "categories = [re.search('>(.+?)</', category).group(1) for category in categories]\n",
    "whole_text = [m+n for m,n in zip(lead_texts,texts)]\n",
    "whole_text = [re.sub(\".]\", \".\", text) for text in whole_text]\n",
    "whole_text = [whole[1:] for whole in whole_text]\n",
    "whole_text = [re.sub('\\\\.,', \".\", text) for text in whole_text]\n",
    "sputnik['date'] = pd.to_datetime(sputnik['date'], format='%Y-%m-%d')\n",
    "whole_text = [translit(text, 'sr', reversed = True) for text in whole_text]\n",
    "titles = [translit(text, 'sr', reversed = True) for text in titles]\n",
    "categories = [translit(text, 'sr', reversed = True) for text in categories]"
   ]
  },
  {
   "cell_type": "code",
   "execution_count": 18,
   "metadata": {},
   "outputs": [],
   "source": [
    "sputnik_clean = pd.DataFrame({\n",
    "    'title' : titles,\n",
    "    'text' : whole_text,\n",
    "    'category' : categories\n",
    "})\n",
    "sputnik_clean['date'] = sputnik['date']\n",
    "sputnik_clean['source'] = 'Sputnik-RU'\n",
    "sputnik_clean.sort_values(by=[\"date\"], inplace= True)\n",
    "start_date = '2018-11-01'\n",
    "end_date = '2019-02-28'\n",
    "mask = (sputnik_clean['date'] > start_date) & (sputnik_clean['date'] <= end_date)\n",
    "sputnik_clean = sputnik_clean.loc[mask]"
   ]
  },
  {
   "cell_type": "markdown",
   "metadata": {},
   "source": [
    "We check that all data processing went as expected. "
   ]
  },
  {
   "cell_type": "code",
   "execution_count": 19,
   "metadata": {},
   "outputs": [
    {
     "data": {
      "text/plain": [
       "Politika                 1146\n",
       "Svet                      732\n",
       "Kultura                   129\n",
       "Ekonomija                  98\n",
       "Naoružanje                 34\n",
       "Rusija                     12\n",
       "Evropa                      2\n",
       "Komentari i Analitika       1\n",
       "Region                      1\n",
       "Analize i mišljenja         1\n",
       "Intervjui                   1\n",
       "Name: category, dtype: int64"
      ]
     },
     "execution_count": 19,
     "metadata": {},
     "output_type": "execute_result"
    }
   ],
   "source": [
    "sputnik_clean['category'].value_counts()"
   ]
  },
  {
   "cell_type": "code",
   "execution_count": 20,
   "metadata": {},
   "outputs": [
    {
     "data": {
      "text/plain": [
       "title       0\n",
       "text        0\n",
       "category    0\n",
       "date        0\n",
       "source      0\n",
       "dtype: int64"
      ]
     },
     "execution_count": 20,
     "metadata": {},
     "output_type": "execute_result"
    }
   ],
   "source": [
    "sputnik_clean.isna().sum()"
   ]
  },
  {
   "cell_type": "code",
   "execution_count": 22,
   "metadata": {},
   "outputs": [
    {
     "data": {
      "text/plain": [
       "title       2157\n",
       "text        2157\n",
       "category      11\n",
       "date        2150\n",
       "source         1\n",
       "dtype: int64"
      ]
     },
     "execution_count": 22,
     "metadata": {},
     "output_type": "execute_result"
    }
   ],
   "source": [
    "sputnik_clean.nunique()"
   ]
  },
  {
   "cell_type": "code",
   "execution_count": 21,
   "metadata": {},
   "outputs": [
    {
     "data": {
      "text/plain": [
       "2157"
      ]
     },
     "execution_count": 21,
     "metadata": {},
     "output_type": "execute_result"
    }
   ],
   "source": [
    "len(sputnik_clean)"
   ]
  },
  {
   "cell_type": "markdown",
   "metadata": {},
   "source": [
    "For now we keep everything until we see the rest of the data. I need to translate the categories. "
   ]
  },
  {
   "cell_type": "code",
   "execution_count": 22,
   "metadata": {},
   "outputs": [],
   "source": [
    "sputnik_clean.to_csv('sputnik_clean.csv', sep=',', encoding='utf-8')"
   ]
  },
  {
   "cell_type": "markdown",
   "metadata": {},
   "source": [
    "## Vostok"
   ]
  },
  {
   "cell_type": "code",
   "execution_count": 124,
   "metadata": {},
   "outputs": [],
   "source": [
    "vostok = pd.read_csv('vostok.csv', sep = '\\t')"
   ]
  },
  {
   "cell_type": "code",
   "execution_count": 125,
   "metadata": {},
   "outputs": [],
   "source": [
    "titles = vostok['title'].tolist()\n",
    "texts_and_dates = vostok['texts_and_dates'].tolist()\n",
    "categories = vostok['categories'].tolist()"
   ]
  },
  {
   "cell_type": "code",
   "execution_count": 126,
   "metadata": {},
   "outputs": [],
   "source": [
    "titles_clean = []\n",
    "for title in titles:\n",
    "    try:\n",
    "        title = re.search('heading\">(.+?)</', title).group(1)\n",
    "        titles_clean.append(title)\n",
    "    except:\n",
    "        titles_clean.append('no_title')\n",
    "dates = [re.search('Објављено:(.+?).год.', date).group(1) for date in texts_and_dates]\n",
    "dates = [date[2:] for date in dates]\n",
    "texts = [re.sub('<.+?>', \"\", text) for text in texts_and_dates]\n",
    "texts = [text.partition(\"idnovost=\")[2] for text in texts]\n",
    "texts = [re.sub('\\\\r|\\\\n|\\\\xa0|Фото дана|Читајте више на| „|, ,', \"\", text) for text in texts]\n",
    "texts = [text[20:] for text in texts]\n",
    "texts = [text[:-1] for text in texts]\n",
    "texts = [re.sub('\\\\.,', \".\", text) for text in texts]\n",
    "categories = [re.search('\\d+', category).group(0) for category in categories]\n",
    "texts = [translit(text, 'sr', reversed = True) for text in texts]\n",
    "titles_clean = [translit(text, 'sr', reversed = True) for text in titles_clean]"
   ]
  },
  {
   "cell_type": "code",
   "execution_count": 127,
   "metadata": {},
   "outputs": [],
   "source": [
    "vostok_clean = pd.DataFrame({\n",
    "    'title' : titles_clean,\n",
    "    'text' : texts,\n",
    "    'category' : categories,\n",
    "    'date' : dates, \n",
    "})\n",
    "vostok_clean['source'] = 'Vostok-RU'\n",
    "vostok_clean = vostok_clean[vostok_clean.title != 'no_title']\n",
    "vostok_clean['date'] = pd.to_datetime(vostok_clean['date'], format = '%d.%m.%Y')\n",
    "vostok_clean.sort_values(by=[\"date\"], inplace= True)\n",
    "start_date = '2018-11-01'\n",
    "end_date = '2019-02-28'\n",
    "mask = (vostok_clean['date'] > start_date) & (vostok_clean['date'] <= end_date)\n",
    "vostok_clean = vostok_clean.loc[mask]\n",
    "def f(row):\n",
    "    if row['category'] == '1':\n",
    "        val = 'Rusija'\n",
    "    elif row['category'] == '2':\n",
    "        val = 'Politika'\n",
    "    elif row['category'] == '7':\n",
    "        val = 'Bezbednost'\n",
    "    elif row['category'] == '6':\n",
    "        val = 'Ekonomijа'\n",
    "    elif row['category'] == '3':\n",
    "        val = 'Društvo'\n",
    "    elif row['category'] == '17':\n",
    "        val = 'Region'\n",
    "    elif row['category'] == '8':\n",
    "        val = 'Analize'\n",
    "    else: \n",
    "        val = 'Kultura'\n",
    "    return val\n",
    "vostok_clean['category'] = vostok_clean.apply(f, axis=1)"
   ]
  },
  {
   "cell_type": "markdown",
   "metadata": {},
   "source": [
    "We get a sense of the category distribution and publishing by Vostok. "
   ]
  },
  {
   "cell_type": "code",
   "execution_count": 128,
   "metadata": {},
   "outputs": [
    {
     "data": {
      "text/plain": [
       "Politika      726\n",
       "Rusija        703\n",
       "Bezbednost    556\n",
       "Ekonomijа     216\n",
       "Društvo       187\n",
       "Region        154\n",
       "Analize        69\n",
       "Kultura        45\n",
       "Name: category, dtype: int64"
      ]
     },
     "execution_count": 128,
     "metadata": {},
     "output_type": "execute_result"
    }
   ],
   "source": [
    "vostok_clean['category'].value_counts()"
   ]
  },
  {
   "cell_type": "markdown",
   "metadata": {},
   "source": [
    "We know that some data collection did not work out as intended so we drop all rows where the text is shorter than 60 characters. This way we remove 256 articles. "
   ]
  },
  {
   "cell_type": "code",
   "execution_count": 129,
   "metadata": {},
   "outputs": [],
   "source": [
    "vostok_clean = vostok_clean[~(vostok_clean.text.str.len() < 60)]"
   ]
  },
  {
   "cell_type": "code",
   "execution_count": 130,
   "metadata": {},
   "outputs": [
    {
     "data": {
      "text/plain": [
       "Politika      649\n",
       "Rusija        630\n",
       "Bezbednost    504\n",
       "Ekonomijа     188\n",
       "Društvo       178\n",
       "Region        150\n",
       "Analize        63\n",
       "Kultura        42\n",
       "Name: category, dtype: int64"
      ]
     },
     "execution_count": 130,
     "metadata": {},
     "output_type": "execute_result"
    }
   ],
   "source": [
    "vostok_clean['category'].value_counts()"
   ]
  },
  {
   "cell_type": "code",
   "execution_count": 131,
   "metadata": {},
   "outputs": [
    {
     "data": {
      "text/plain": [
       "title       0\n",
       "text        0\n",
       "category    0\n",
       "date        0\n",
       "source      0\n",
       "dtype: int64"
      ]
     },
     "execution_count": 131,
     "metadata": {},
     "output_type": "execute_result"
    }
   ],
   "source": [
    "vostok_clean.isna().sum()"
   ]
  },
  {
   "cell_type": "code",
   "execution_count": 132,
   "metadata": {},
   "outputs": [
    {
     "data": {
      "text/plain": [
       "2404"
      ]
     },
     "execution_count": 132,
     "metadata": {},
     "output_type": "execute_result"
    }
   ],
   "source": [
    "len(vostok_clean)"
   ]
  },
  {
   "cell_type": "code",
   "execution_count": 133,
   "metadata": {},
   "outputs": [
    {
     "data": {
      "text/plain": [
       "title       2317\n",
       "text        2317\n",
       "category       8\n",
       "date         119\n",
       "source         1\n",
       "dtype: int64"
      ]
     },
     "execution_count": 133,
     "metadata": {},
     "output_type": "execute_result"
    }
   ],
   "source": [
    "vostok_clean.nunique()"
   ]
  },
  {
   "cell_type": "code",
   "execution_count": 134,
   "metadata": {},
   "outputs": [
    {
     "name": "stdout",
     "output_type": "stream",
     "text": [
      "False\n"
     ]
    }
   ],
   "source": [
    "print(any(vostok_clean.duplicated()))"
   ]
  },
  {
   "cell_type": "markdown",
   "metadata": {},
   "source": [
    "No duplicate rows. That means articles are either re-used on different days or re-used across categories."
   ]
  },
  {
   "cell_type": "code",
   "execution_count": 135,
   "metadata": {},
   "outputs": [
    {
     "name": "stdout",
     "output_type": "stream",
     "text": [
      "True\n"
     ]
    }
   ],
   "source": [
    "print(any(vostok_clean['text'].duplicated()))"
   ]
  },
  {
   "cell_type": "markdown",
   "metadata": {},
   "source": [
    "Examining this data shows that duplicates arise from articles being used across several categories. So we will drop all rows where text and title are repeated. "
   ]
  },
  {
   "cell_type": "code",
   "execution_count": 136,
   "metadata": {},
   "outputs": [],
   "source": [
    "vostok_clean = vostok_clean.drop_duplicates('text')\n",
    "vostok_clean = vostok_clean.drop_duplicates('title')"
   ]
  },
  {
   "cell_type": "code",
   "execution_count": 137,
   "metadata": {},
   "outputs": [
    {
     "data": {
      "text/plain": [
       "2313"
      ]
     },
     "execution_count": 137,
     "metadata": {},
     "output_type": "execute_result"
    }
   ],
   "source": [
    "len(vostok_clean)"
   ]
  },
  {
   "cell_type": "code",
   "execution_count": 138,
   "metadata": {},
   "outputs": [
    {
     "data": {
      "text/plain": [
       "title       2313\n",
       "text        2313\n",
       "category       8\n",
       "date         119\n",
       "source         1\n",
       "dtype: int64"
      ]
     },
     "execution_count": 138,
     "metadata": {},
     "output_type": "execute_result"
    }
   ],
   "source": [
    "vostok_clean.nunique()"
   ]
  },
  {
   "cell_type": "code",
   "execution_count": 139,
   "metadata": {},
   "outputs": [
    {
     "data": {
      "text/plain": [
       "Politika      632\n",
       "Rusija        609\n",
       "Bezbednost    475\n",
       "Ekonomijа     179\n",
       "Društvo       175\n",
       "Region        141\n",
       "Analize        62\n",
       "Kultura        40\n",
       "Name: category, dtype: int64"
      ]
     },
     "execution_count": 139,
     "metadata": {},
     "output_type": "execute_result"
    }
   ],
   "source": [
    "vostok_clean['category'].value_counts()"
   ]
  },
  {
   "cell_type": "code",
   "execution_count": 140,
   "metadata": {},
   "outputs": [
    {
     "data": {
      "text/plain": [
       "title       0\n",
       "text        0\n",
       "category    0\n",
       "date        0\n",
       "source      0\n",
       "dtype: int64"
      ]
     },
     "execution_count": 140,
     "metadata": {},
     "output_type": "execute_result"
    }
   ],
   "source": [
    "vostok_clean.isna().sum()"
   ]
  },
  {
   "cell_type": "code",
   "execution_count": 141,
   "metadata": {},
   "outputs": [
    {
     "data": {
      "text/html": [
       "<div>\n",
       "<style scoped>\n",
       "    .dataframe tbody tr th:only-of-type {\n",
       "        vertical-align: middle;\n",
       "    }\n",
       "\n",
       "    .dataframe tbody tr th {\n",
       "        vertical-align: top;\n",
       "    }\n",
       "\n",
       "    .dataframe thead th {\n",
       "        text-align: right;\n",
       "    }\n",
       "</style>\n",
       "<table border=\"1\" class=\"dataframe\">\n",
       "  <thead>\n",
       "    <tr style=\"text-align: right;\">\n",
       "      <th></th>\n",
       "      <th>title</th>\n",
       "      <th>text</th>\n",
       "      <th>category</th>\n",
       "      <th>date</th>\n",
       "      <th>source</th>\n",
       "    </tr>\n",
       "  </thead>\n",
       "  <tbody>\n",
       "    <tr>\n",
       "      <th>3601</th>\n",
       "      <td>Beogradski dani slobode u Lugansku</td>\n",
       "      <td>PovodomDana slobode“, kojim se od ove godine u...</td>\n",
       "      <td>Društvo</td>\n",
       "      <td>2018-11-02</td>\n",
       "      <td>Vostok-RU</td>\n",
       "    </tr>\n",
       "    <tr>\n",
       "      <th>3573</th>\n",
       "      <td>Peskov: Sankcije Ukrajini iznuđena recipročna ...</td>\n",
       "      <td>Uvodeći ograničenja Rusija je recipročno odgov...</td>\n",
       "      <td>Rusija</td>\n",
       "      <td>2018-11-02</td>\n",
       "      <td>Vostok-RU</td>\n",
       "    </tr>\n",
       "    <tr>\n",
       "      <th>729</th>\n",
       "      <td>„Rosatom“ pustio u rad reaktor prve plutajuće ...</td>\n",
       "      <td>\"Rosatom\" je uspešno pustio u rad reaktor prve...</td>\n",
       "      <td>Ekonomijа</td>\n",
       "      <td>2018-11-02</td>\n",
       "      <td>Vostok-RU</td>\n",
       "    </tr>\n",
       "    <tr>\n",
       "      <th>940</th>\n",
       "      <td>Mandiću i Kneževiću opet oduzimaju pasoše</td>\n",
       "      <td>Crnogorsko pravosuđe nastavilo je progon lider...</td>\n",
       "      <td>Region</td>\n",
       "      <td>2018-11-02</td>\n",
       "      <td>Vostok-RU</td>\n",
       "    </tr>\n",
       "    <tr>\n",
       "      <th>1289</th>\n",
       "      <td>U Hagu donete dve suprotne odluke: Ne zna se k...</td>\n",
       "      <td>Sudije u Hagu potpuno su se podelile u slučaju...</td>\n",
       "      <td>Društvo</td>\n",
       "      <td>2018-11-02</td>\n",
       "      <td>Vostok-RU</td>\n",
       "    </tr>\n",
       "    <tr>\n",
       "      <th>2480</th>\n",
       "      <td>„Zabrana ulaska u Crnu Goru Bećkoviću osim što...</td>\n",
       "      <td>Zabrana ulaska u Crnu Goru Matiji Bećkoviću, Č...</td>\n",
       "      <td>Region</td>\n",
       "      <td>2018-11-02</td>\n",
       "      <td>Vostok-RU</td>\n",
       "    </tr>\n",
       "    <tr>\n",
       "      <th>2199</th>\n",
       "      <td>Putin: Danas se odlučuje kakav će biti svet u ...</td>\n",
       "      <td>Danas se odlučuje kakav će biti svet u naredni...</td>\n",
       "      <td>Rusija</td>\n",
       "      <td>2018-11-02</td>\n",
       "      <td>Vostok-RU</td>\n",
       "    </tr>\n",
       "    <tr>\n",
       "      <th>501</th>\n",
       "      <td>Konte se nada nastavku kontakata sa Putinom</td>\n",
       "      <td>Premijer Italije Đuzepe Konte kaže da se nada ...</td>\n",
       "      <td>Politika</td>\n",
       "      <td>2018-11-02</td>\n",
       "      <td>Vostok-RU</td>\n",
       "    </tr>\n",
       "    <tr>\n",
       "      <th>2363</th>\n",
       "      <td>Savčenko: Teroristi isporučili dva kontejnera ...</td>\n",
       "      <td>Teroristi su isporučili dva kontejnera sa hlor...</td>\n",
       "      <td>Bezbednost</td>\n",
       "      <td>2018-11-02</td>\n",
       "      <td>Vostok-RU</td>\n",
       "    </tr>\n",
       "    <tr>\n",
       "      <th>3532</th>\n",
       "      <td>Zaharova: Izjava Hanta o Rusiji oštra retorika...</td>\n",
       "      <td>Najnovija izjava britanskog ministra spoljnih ...</td>\n",
       "      <td>Rusija</td>\n",
       "      <td>2018-11-02</td>\n",
       "      <td>Vostok-RU</td>\n",
       "    </tr>\n",
       "  </tbody>\n",
       "</table>\n",
       "</div>"
      ],
      "text/plain": [
       "                                                  title  \\\n",
       "3601                 Beogradski dani slobode u Lugansku   \n",
       "3573  Peskov: Sankcije Ukrajini iznuđena recipročna ...   \n",
       "729   „Rosatom“ pustio u rad reaktor prve plutajuće ...   \n",
       "940           Mandiću i Kneževiću opet oduzimaju pasoše   \n",
       "1289  U Hagu donete dve suprotne odluke: Ne zna se k...   \n",
       "2480  „Zabrana ulaska u Crnu Goru Bećkoviću osim što...   \n",
       "2199  Putin: Danas se odlučuje kakav će biti svet u ...   \n",
       "501         Konte se nada nastavku kontakata sa Putinom   \n",
       "2363  Savčenko: Teroristi isporučili dva kontejnera ...   \n",
       "3532  Zaharova: Izjava Hanta o Rusiji oštra retorika...   \n",
       "\n",
       "                                                   text    category  \\\n",
       "3601  PovodomDana slobode“, kojim se od ove godine u...     Društvo   \n",
       "3573  Uvodeći ograničenja Rusija je recipročno odgov...      Rusija   \n",
       "729   \"Rosatom\" je uspešno pustio u rad reaktor prve...   Ekonomijа   \n",
       "940   Crnogorsko pravosuđe nastavilo je progon lider...      Region   \n",
       "1289  Sudije u Hagu potpuno su se podelile u slučaju...     Društvo   \n",
       "2480  Zabrana ulaska u Crnu Goru Matiji Bećkoviću, Č...      Region   \n",
       "2199  Danas se odlučuje kakav će biti svet u naredni...      Rusija   \n",
       "501   Premijer Italije Đuzepe Konte kaže da se nada ...    Politika   \n",
       "2363  Teroristi su isporučili dva kontejnera sa hlor...  Bezbednost   \n",
       "3532  Najnovija izjava britanskog ministra spoljnih ...      Rusija   \n",
       "\n",
       "           date     source  \n",
       "3601 2018-11-02  Vostok-RU  \n",
       "3573 2018-11-02  Vostok-RU  \n",
       "729  2018-11-02  Vostok-RU  \n",
       "940  2018-11-02  Vostok-RU  \n",
       "1289 2018-11-02  Vostok-RU  \n",
       "2480 2018-11-02  Vostok-RU  \n",
       "2199 2018-11-02  Vostok-RU  \n",
       "501  2018-11-02  Vostok-RU  \n",
       "2363 2018-11-02  Vostok-RU  \n",
       "3532 2018-11-02  Vostok-RU  "
      ]
     },
     "execution_count": 141,
     "metadata": {},
     "output_type": "execute_result"
    }
   ],
   "source": [
    "vostok_clean.head(10)"
   ]
  },
  {
   "cell_type": "code",
   "execution_count": 142,
   "metadata": {},
   "outputs": [],
   "source": [
    "vostok_clean.to_csv('vostok_clean.csv', sep=',', encoding='utf-8')"
   ]
  },
  {
   "cell_type": "markdown",
   "metadata": {},
   "source": [
    "## N1"
   ]
  },
  {
   "cell_type": "code",
   "execution_count": 143,
   "metadata": {},
   "outputs": [],
   "source": [
    "n1 = pd.read_csv(\"n1.csv\", sep = \",\")"
   ]
  },
  {
   "cell_type": "code",
   "execution_count": 144,
   "metadata": {},
   "outputs": [],
   "source": [
    "dates = n1['date'].tolist()"
   ]
  },
  {
   "cell_type": "code",
   "execution_count": 145,
   "metadata": {},
   "outputs": [],
   "source": [
    "dates = [re.search('date\">(.+?).<', date).group(1) for date in dates]\n",
    "n1['date'] = pd.DataFrame(dates)\n",
    "n1['date'] = pd.to_datetime(n1['date'])\n",
    "n1.sort_values(by=[\"date\"], inplace= True)\n",
    "start_date = '2018.11.01'\n",
    "end_date = '2019.02.28'\n",
    "mask = (n1['date'] > start_date) & (n1['date'] <= end_date)\n",
    "n1 = n1.loc[mask]"
   ]
  },
  {
   "cell_type": "code",
   "execution_count": 146,
   "metadata": {},
   "outputs": [
    {
     "data": {
      "text/plain": [
       "3765"
      ]
     },
     "execution_count": 146,
     "metadata": {},
     "output_type": "execute_result"
    }
   ],
   "source": [
    "len(n1)"
   ]
  },
  {
   "cell_type": "code",
   "execution_count": 147,
   "metadata": {},
   "outputs": [],
   "source": [
    "titles = n1['title'].tolist()\n",
    "texts = n1['text'].tolist()\n",
    "categories = n1['category'].tolist()\n",
    "\n",
    "titles_clean = []\n",
    "for title in titles:\n",
    "    try:\n",
    "        title = re.search('title\">(.+?)</', title).group(1)\n",
    "        titles_clean.append(title)\n",
    "    except:\n",
    "        titles_clean.append('no_title')\n",
    "categories_clean = []\n",
    "for category in categories:\n",
    "    try:\n",
    "        category = re.search('.com/(.+?)\">', category).group(1)\n",
    "        categories_clean.append(category)\n",
    "    except:\n",
    "        categories_clean.append('no_category')\n",
    "texts = [re.sub('\\\\r|\\\\n|<.*?>|<.*?>,|</.*?>,|</.*?>| ,|Tagovi:|\\\\\\xa0', \"\", text) for text in texts]\n",
    "texts = [re.sub('\\\\.,', \".\", text) for text in texts]\n",
    "\n",
    "date = n1['date'].tolist()"
   ]
  },
  {
   "cell_type": "code",
   "execution_count": 148,
   "metadata": {},
   "outputs": [
    {
     "data": {
      "text/html": [
       "<div>\n",
       "<style scoped>\n",
       "    .dataframe tbody tr th:only-of-type {\n",
       "        vertical-align: middle;\n",
       "    }\n",
       "\n",
       "    .dataframe tbody tr th {\n",
       "        vertical-align: top;\n",
       "    }\n",
       "\n",
       "    .dataframe thead th {\n",
       "        text-align: right;\n",
       "    }\n",
       "</style>\n",
       "<table border=\"1\" class=\"dataframe\">\n",
       "  <thead>\n",
       "    <tr style=\"text-align: right;\">\n",
       "      <th></th>\n",
       "      <th>title</th>\n",
       "      <th>text</th>\n",
       "      <th>category</th>\n",
       "      <th>date</th>\n",
       "      <th>source</th>\n",
       "    </tr>\n",
       "  </thead>\n",
       "  <tbody>\n",
       "    <tr>\n",
       "      <th>0</th>\n",
       "      <td>Đukanović i Tači o dijalogu Beograda i Prištine</td>\n",
       "      <td>[Predsednik Crne Gore Milo Đukanović razgovara...</td>\n",
       "      <td>Region</td>\n",
       "      <td>2018-11-09</td>\n",
       "      <td>N1-USA</td>\n",
       "    </tr>\n",
       "    <tr>\n",
       "      <th>1</th>\n",
       "      <td>Kolinda Grabar Kitarović udomila psa</td>\n",
       "      <td>[Povodom izmeštanja predsedničke kancelarije u...</td>\n",
       "      <td>Region</td>\n",
       "      <td>2018-11-10</td>\n",
       "      <td>N1-USA</td>\n",
       "    </tr>\n",
       "    <tr>\n",
       "      <th>2</th>\n",
       "      <td>Podignuta optužnica protiv Atifa Dudakovića</td>\n",
       "      <td>[Tužilaštvo Bosne i Hercegovine podiglo je opt...</td>\n",
       "      <td>Region</td>\n",
       "      <td>2018-11-10</td>\n",
       "      <td>N1-USA</td>\n",
       "    </tr>\n",
       "    <tr>\n",
       "      <th>3</th>\n",
       "      <td>Počelo suđenje gradonačelniku Zagreba i saradn...</td>\n",
       "      <td>[Pred zagrebačkim Županijskim sudom počelo je ...</td>\n",
       "      <td>Region</td>\n",
       "      <td>2018-11-10</td>\n",
       "      <td>N1-USA</td>\n",
       "    </tr>\n",
       "    <tr>\n",
       "      <th>4</th>\n",
       "      <td>Bivši pripadnik Vojske RS optužen za ratni zlo...</td>\n",
       "      <td>[Zoran Adamović, nekadašnji pripadnik Vojske R...</td>\n",
       "      <td>Region</td>\n",
       "      <td>2018-11-10</td>\n",
       "      <td>N1-USA</td>\n",
       "    </tr>\n",
       "    <tr>\n",
       "      <th>5</th>\n",
       "      <td>Hrvatska poslanica šokirala Sabor: Vezali su m...</td>\n",
       "      <td>[Poslanica Ivana Ninčević Lesandrić je u vrlo ...</td>\n",
       "      <td>Region</td>\n",
       "      <td>2018-11-10</td>\n",
       "      <td>N1-USA</td>\n",
       "    </tr>\n",
       "    <tr>\n",
       "      <th>6</th>\n",
       "      <td>Vinarija iz BiH prodaje vino sa slikom Ante Pa...</td>\n",
       "      <td>[Jedna vinarija iz Širog Brijega u Hercegovini...</td>\n",
       "      <td>Region</td>\n",
       "      <td>2018-11-10</td>\n",
       "      <td>N1-USA</td>\n",
       "    </tr>\n",
       "    <tr>\n",
       "      <th>7</th>\n",
       "      <td>Na protestu protiv Komšića u Mostaru oko 10.00...</td>\n",
       "      <td>[Oko 10.000 Hrvata učestvovalo je na protestu ...</td>\n",
       "      <td>Region</td>\n",
       "      <td>2018-11-10</td>\n",
       "      <td>N1-USA</td>\n",
       "    </tr>\n",
       "    <tr>\n",
       "      <th>8</th>\n",
       "      <td>Pet godina zatvora komandantu Zvorničke brigad...</td>\n",
       "      <td>[Ostoja Stanišić, komandant Šestog bataljona Z...</td>\n",
       "      <td>Region</td>\n",
       "      <td>2018-11-10</td>\n",
       "      <td>N1-USA</td>\n",
       "    </tr>\n",
       "    <tr>\n",
       "      <th>9</th>\n",
       "      <td>Vlasti Mjanmara spremne za povratak izbeglica ...</td>\n",
       "      <td>[Vlasti Mjanmara izrazile su spremnost za povr...</td>\n",
       "      <td>Svet</td>\n",
       "      <td>2018-11-11</td>\n",
       "      <td>N1-USA</td>\n",
       "    </tr>\n",
       "  </tbody>\n",
       "</table>\n",
       "</div>"
      ],
      "text/plain": [
       "                                               title  \\\n",
       "0    Đukanović i Tači o dijalogu Beograda i Prištine   \n",
       "1               Kolinda Grabar Kitarović udomila psa   \n",
       "2        Podignuta optužnica protiv Atifa Dudakovića   \n",
       "3  Počelo suđenje gradonačelniku Zagreba i saradn...   \n",
       "4  Bivši pripadnik Vojske RS optužen za ratni zlo...   \n",
       "5  Hrvatska poslanica šokirala Sabor: Vezali su m...   \n",
       "6  Vinarija iz BiH prodaje vino sa slikom Ante Pa...   \n",
       "7  Na protestu protiv Komšića u Mostaru oko 10.00...   \n",
       "8  Pet godina zatvora komandantu Zvorničke brigad...   \n",
       "9  Vlasti Mjanmara spremne za povratak izbeglica ...   \n",
       "\n",
       "                                                text category       date  \\\n",
       "0  [Predsednik Crne Gore Milo Đukanović razgovara...   Region 2018-11-09   \n",
       "1  [Povodom izmeštanja predsedničke kancelarije u...   Region 2018-11-10   \n",
       "2  [Tužilaštvo Bosne i Hercegovine podiglo je opt...   Region 2018-11-10   \n",
       "3  [Pred zagrebačkim Županijskim sudom počelo je ...   Region 2018-11-10   \n",
       "4  [Zoran Adamović, nekadašnji pripadnik Vojske R...   Region 2018-11-10   \n",
       "5  [Poslanica Ivana Ninčević Lesandrić je u vrlo ...   Region 2018-11-10   \n",
       "6  [Jedna vinarija iz Širog Brijega u Hercegovini...   Region 2018-11-10   \n",
       "7  [Oko 10.000 Hrvata učestvovalo je na protestu ...   Region 2018-11-10   \n",
       "8  [Ostoja Stanišić, komandant Šestog bataljona Z...   Region 2018-11-10   \n",
       "9  [Vlasti Mjanmara izrazile su spremnost za povr...     Svet 2018-11-11   \n",
       "\n",
       "   source  \n",
       "0  N1-USA  \n",
       "1  N1-USA  \n",
       "2  N1-USA  \n",
       "3  N1-USA  \n",
       "4  N1-USA  \n",
       "5  N1-USA  \n",
       "6  N1-USA  \n",
       "7  N1-USA  \n",
       "8  N1-USA  \n",
       "9  N1-USA  "
      ]
     },
     "execution_count": 148,
     "metadata": {},
     "output_type": "execute_result"
    }
   ],
   "source": [
    "n1_clean = pd.DataFrame({\n",
    "    'title' : titles_clean,\n",
    "    'text' : texts,\n",
    "    'category': categories_clean, \n",
    "    'date' : date\n",
    "})\n",
    "n1_clean = n1_clean[n1_clean.title != 'no_title']\n",
    "n1_clean = n1_clean[n1_clean.category !='no_category']\n",
    "n1_clean['source'] = 'N1-USA'\n",
    "n1_clean.head(10)"
   ]
  },
  {
   "cell_type": "code",
   "execution_count": 149,
   "metadata": {},
   "outputs": [
    {
     "data": {
      "text/plain": [
       "title       0\n",
       "text        0\n",
       "category    0\n",
       "date        0\n",
       "source      0\n",
       "dtype: int64"
      ]
     },
     "execution_count": 149,
     "metadata": {},
     "output_type": "execute_result"
    }
   ],
   "source": [
    "n1_clean.isna().sum()"
   ]
  },
  {
   "cell_type": "code",
   "execution_count": 151,
   "metadata": {},
   "outputs": [
    {
     "data": {
      "text/plain": [
       "3764"
      ]
     },
     "execution_count": 151,
     "metadata": {},
     "output_type": "execute_result"
    }
   ],
   "source": [
    "len(n1_clean)"
   ]
  },
  {
   "cell_type": "code",
   "execution_count": 152,
   "metadata": {},
   "outputs": [
    {
     "data": {
      "text/plain": [
       "title       3763\n",
       "text        3764\n",
       "category       4\n",
       "date          86\n",
       "source         1\n",
       "dtype: int64"
      ]
     },
     "execution_count": 152,
     "metadata": {},
     "output_type": "execute_result"
    }
   ],
   "source": [
    "n1_clean.nunique()"
   ]
  },
  {
   "cell_type": "code",
   "execution_count": 153,
   "metadata": {},
   "outputs": [
    {
     "data": {
      "text/plain": [
       "3763"
      ]
     },
     "execution_count": 153,
     "metadata": {},
     "output_type": "execute_result"
    }
   ],
   "source": [
    "n1_clean = n1_clean.drop_duplicates('title')\n",
    "len(n1_clean)"
   ]
  },
  {
   "cell_type": "code",
   "execution_count": 154,
   "metadata": {},
   "outputs": [
    {
     "data": {
      "text/plain": [
       "title       3763\n",
       "text        3763\n",
       "category       4\n",
       "date          86\n",
       "source         1\n",
       "dtype: int64"
      ]
     },
     "execution_count": 154,
     "metadata": {},
     "output_type": "execute_result"
    }
   ],
   "source": [
    "n1_clean.nunique()"
   ]
  },
  {
   "cell_type": "code",
   "execution_count": 155,
   "metadata": {},
   "outputs": [
    {
     "data": {
      "text/plain": [
       "Vesti      1655\n",
       "Svet       1411\n",
       "Region      569\n",
       "Kultura     128\n",
       "Name: category, dtype: int64"
      ]
     },
     "execution_count": 155,
     "metadata": {},
     "output_type": "execute_result"
    }
   ],
   "source": [
    "n1_clean['category'].value_counts()"
   ]
  },
  {
   "cell_type": "code",
   "execution_count": 156,
   "metadata": {},
   "outputs": [],
   "source": [
    "n1_clean.to_csv('n1_clean.csv', sep=',', encoding='utf-8')"
   ]
  },
  {
   "cell_type": "markdown",
   "metadata": {},
   "source": [
    "## RFE"
   ]
  },
  {
   "cell_type": "code",
   "execution_count": 157,
   "metadata": {},
   "outputs": [],
   "source": [
    "rfe = pd.read_csv('se.csv', sep = '\\t')"
   ]
  },
  {
   "cell_type": "code",
   "execution_count": 158,
   "metadata": {},
   "outputs": [
    {
     "data": {
      "text/html": [
       "<div>\n",
       "<style scoped>\n",
       "    .dataframe tbody tr th:only-of-type {\n",
       "        vertical-align: middle;\n",
       "    }\n",
       "\n",
       "    .dataframe tbody tr th {\n",
       "        vertical-align: top;\n",
       "    }\n",
       "\n",
       "    .dataframe thead th {\n",
       "        text-align: right;\n",
       "    }\n",
       "</style>\n",
       "<table border=\"1\" class=\"dataframe\">\n",
       "  <thead>\n",
       "    <tr style=\"text-align: right;\">\n",
       "      <th></th>\n",
       "      <th>Unnamed: 0</th>\n",
       "      <th>title</th>\n",
       "      <th>date</th>\n",
       "      <th>text</th>\n",
       "    </tr>\n",
       "  </thead>\n",
       "  <tbody>\n",
       "    <tr>\n",
       "      <th>0</th>\n",
       "      <td>0</td>\n",
       "      <td>problem</td>\n",
       "      <td>[&lt;time datetime=\"2019-01-03T17:50:00+01:00\"&gt;\\r...</td>\n",
       "      <td>problem</td>\n",
       "    </tr>\n",
       "    <tr>\n",
       "      <th>1</th>\n",
       "      <td>1</td>\n",
       "      <td>[&lt;h1 class=\"pg-title\"&gt;\\r\\nPočela Generalna sku...</td>\n",
       "      <td>[&lt;time datetime=\"2018-11-18T10:13:15+01:00\"&gt;\\r...</td>\n",
       "      <td>[&lt;p&gt;Generalna skupština Interpola počela je u ...</td>\n",
       "    </tr>\n",
       "    <tr>\n",
       "      <th>2</th>\n",
       "      <td>2</td>\n",
       "      <td>[&lt;h1 class=\"pg-title\"&gt;\\r\\nPompeo uveren da će ...</td>\n",
       "      <td>[&lt;time datetime=\"2019-01-12T15:52:35+01:00\"&gt;\\r...</td>\n",
       "      <td>[&lt;p&gt;Američke vlasti uverene su u mogućnost da ...</td>\n",
       "    </tr>\n",
       "    <tr>\n",
       "      <th>3</th>\n",
       "      <td>3</td>\n",
       "      <td>[&lt;h1 class=\"pg-title\"&gt;\\r\\nCIK potvrdio rezulta...</td>\n",
       "      <td>[&lt;time datetime=\"2018-11-06T17:41:20+01:00\"&gt;\\r...</td>\n",
       "      <td>[&lt;p&gt;Centralna izborna komisija (CIK) BiH danas...</td>\n",
       "    </tr>\n",
       "    <tr>\n",
       "      <th>4</th>\n",
       "      <td>4</td>\n",
       "      <td>[&lt;h1 class=\"pg-title\"&gt;\\r\\nMalinari iz Užica: T...</td>\n",
       "      <td>[&lt;time datetime=\"2018-12-21T12:20:05+01:00\"&gt;\\r...</td>\n",
       "      <td>[&lt;p&gt;Predstavnici udruženja malinara iz užičkog...</td>\n",
       "    </tr>\n",
       "    <tr>\n",
       "      <th>5</th>\n",
       "      <td>5</td>\n",
       "      <td>[&lt;h1 class=\"pg-title\"&gt;\\r\\nNove kosovske sudije...</td>\n",
       "      <td>[&lt;time datetime=\"2019-01-21T16:29:47+01:00\"&gt;\\r...</td>\n",
       "      <td>[&lt;p&gt;Predsednik Kosova Hašim Tači potpisao je u...</td>\n",
       "    </tr>\n",
       "    <tr>\n",
       "      <th>6</th>\n",
       "      <td>6</td>\n",
       "      <td>[&lt;h1 class=\"pg-title\"&gt;\\r\\nAmbasada SAD: Opozic...</td>\n",
       "      <td>[&lt;time datetime=\"2019-02-25T14:13:33+01:00\"&gt;\\r...</td>\n",
       "      <td>[&lt;p&gt;Pitanje eventualnog izbornog i bojkota u S...</td>\n",
       "    </tr>\n",
       "    <tr>\n",
       "      <th>7</th>\n",
       "      <td>7</td>\n",
       "      <td>[&lt;h1 class=\"pg-title\"&gt;\\r\\nProtest 'Jedan od pe...</td>\n",
       "      <td>[&lt;time datetime=\"2019-02-22T20:40:48+01:00\"&gt;\\r...</td>\n",
       "      <td>[&lt;p&gt;Protesti pod nazivom \"Jedan od pet miliona...</td>\n",
       "    </tr>\n",
       "    <tr>\n",
       "      <th>8</th>\n",
       "      <td>8</td>\n",
       "      <td>[&lt;h1 class=\"pg-title\"&gt;\\r\\nMećave zahvatile Evr...</td>\n",
       "      <td>[&lt;time datetime=\"2019-01-08T20:46:50+01:00\"&gt;\\r...</td>\n",
       "      <td>[&lt;p&gt;Hladan talas sa mećavama i danas pogađa Ev...</td>\n",
       "    </tr>\n",
       "    <tr>\n",
       "      <th>9</th>\n",
       "      <td>9</td>\n",
       "      <td>[&lt;h1 class=\"pg-title\"&gt;\\r\\nIstraživanje: Evrops...</td>\n",
       "      <td>[&lt;time datetime=\"2018-12-10T20:56:41+01:00\"&gt;\\r...</td>\n",
       "      <td>[&lt;p&gt;Mnogi Jevreji u Evropi kriju svoju religij...</td>\n",
       "    </tr>\n",
       "  </tbody>\n",
       "</table>\n",
       "</div>"
      ],
      "text/plain": [
       "   Unnamed: 0                                              title  \\\n",
       "0           0                                            problem   \n",
       "1           1  [<h1 class=\"pg-title\">\\r\\nPočela Generalna sku...   \n",
       "2           2  [<h1 class=\"pg-title\">\\r\\nPompeo uveren da će ...   \n",
       "3           3  [<h1 class=\"pg-title\">\\r\\nCIK potvrdio rezulta...   \n",
       "4           4  [<h1 class=\"pg-title\">\\r\\nMalinari iz Užica: T...   \n",
       "5           5  [<h1 class=\"pg-title\">\\r\\nNove kosovske sudije...   \n",
       "6           6  [<h1 class=\"pg-title\">\\r\\nAmbasada SAD: Opozic...   \n",
       "7           7  [<h1 class=\"pg-title\">\\r\\nProtest 'Jedan od pe...   \n",
       "8           8  [<h1 class=\"pg-title\">\\r\\nMećave zahvatile Evr...   \n",
       "9           9  [<h1 class=\"pg-title\">\\r\\nIstraživanje: Evrops...   \n",
       "\n",
       "                                                date  \\\n",
       "0  [<time datetime=\"2019-01-03T17:50:00+01:00\">\\r...   \n",
       "1  [<time datetime=\"2018-11-18T10:13:15+01:00\">\\r...   \n",
       "2  [<time datetime=\"2019-01-12T15:52:35+01:00\">\\r...   \n",
       "3  [<time datetime=\"2018-11-06T17:41:20+01:00\">\\r...   \n",
       "4  [<time datetime=\"2018-12-21T12:20:05+01:00\">\\r...   \n",
       "5  [<time datetime=\"2019-01-21T16:29:47+01:00\">\\r...   \n",
       "6  [<time datetime=\"2019-02-25T14:13:33+01:00\">\\r...   \n",
       "7  [<time datetime=\"2019-02-22T20:40:48+01:00\">\\r...   \n",
       "8  [<time datetime=\"2019-01-08T20:46:50+01:00\">\\r...   \n",
       "9  [<time datetime=\"2018-12-10T20:56:41+01:00\">\\r...   \n",
       "\n",
       "                                                text  \n",
       "0                                            problem  \n",
       "1  [<p>Generalna skupština Interpola počela je u ...  \n",
       "2  [<p>Američke vlasti uverene su u mogućnost da ...  \n",
       "3  [<p>Centralna izborna komisija (CIK) BiH danas...  \n",
       "4  [<p>Predstavnici udruženja malinara iz užičkog...  \n",
       "5  [<p>Predsednik Kosova Hašim Tači potpisao je u...  \n",
       "6  [<p>Pitanje eventualnog izbornog i bojkota u S...  \n",
       "7  [<p>Protesti pod nazivom \"Jedan od pet miliona...  \n",
       "8  [<p>Hladan talas sa mećavama i danas pogađa Ev...  \n",
       "9  [<p>Mnogi Jevreji u Evropi kriju svoju religij...  "
      ]
     },
     "execution_count": 158,
     "metadata": {},
     "output_type": "execute_result"
    }
   ],
   "source": [
    "rfe.head(10)"
   ]
  },
  {
   "cell_type": "code",
   "execution_count": 159,
   "metadata": {},
   "outputs": [],
   "source": [
    "titles = rfe['title'].tolist()\n",
    "dates = rfe['date'].tolist()\n",
    "texts = rfe['text'].tolist()"
   ]
  },
  {
   "cell_type": "code",
   "execution_count": 160,
   "metadata": {},
   "outputs": [],
   "source": [
    "titles_clean = []\n",
    "for title in titles:\n",
    "    try:\n",
    "        title = re.search('title\">\\\\r\\\\n(.+?)\\\\r\\\\n</h1>', title).group(1)\n",
    "        titles_clean.append(title)\n",
    "    except:\n",
    "        titles_clean.append('no_title')\n",
    "titles_clean[:10]\n",
    "\n",
    "dates_clean = []\n",
    "for date in dates:\n",
    "    try:\n",
    "        date = re.search('datetime=\"(.+?)\">', date).group(1)\n",
    "        dates_clean.append(date)\n",
    "    except:\n",
    "        dates_clean.append('no_date')\n",
    "dates_clean[:10]\n",
    "texts = [re.sub('\\\\r|\\\\n|<.*?>|<.*?>,|</.*?>,|</.*?>', \"\", text) for text in texts]\n",
    "texts = [re.sub('\\\\.,', \".\", text) for text in texts]\n",
    "texts = [text[1:] for text in texts]\n",
    "texts = [text[:-1] for text in texts]"
   ]
  },
  {
   "cell_type": "code",
   "execution_count": 161,
   "metadata": {},
   "outputs": [],
   "source": [
    "rfe = pd.DataFrame({\n",
    "    'title' : titles_clean,\n",
    "    'text' : texts,\n",
    "    'date' : dates_clean, \n",
    "})\n",
    "rfe = rfe[rfe.title != 'no_title']\n",
    "rfe = rfe[rfe.date != 'no_date']\n",
    "rfe['date'] = pd.to_datetime(rfe['date'], format = '%Y-%m-%d')\n",
    "rfe.sort_values(by=[\"date\"], inplace= True)\n",
    "start_date = '2018-11-01'\n",
    "end_date = '2019-02-28'\n",
    "mask = (rfe['date'] > start_date) & (rfe['date'] <= end_date)\n",
    "rfe = rfe.loc[mask]\n",
    "rfe['source'] = 'RFE-USA'"
   ]
  },
  {
   "cell_type": "code",
   "execution_count": 162,
   "metadata": {},
   "outputs": [
    {
     "data": {
      "text/plain": [
       "1695"
      ]
     },
     "execution_count": 162,
     "metadata": {},
     "output_type": "execute_result"
    }
   ],
   "source": [
    "len(rfe)"
   ]
  },
  {
   "cell_type": "code",
   "execution_count": 163,
   "metadata": {},
   "outputs": [
    {
     "data": {
      "text/plain": [
       "title     0\n",
       "text      0\n",
       "date      0\n",
       "source    0\n",
       "dtype: int64"
      ]
     },
     "execution_count": 163,
     "metadata": {},
     "output_type": "execute_result"
    }
   ],
   "source": [
    "rfe.isna().sum()"
   ]
  },
  {
   "cell_type": "code",
   "execution_count": 165,
   "metadata": {},
   "outputs": [
    {
     "data": {
      "text/plain": [
       "title     1695\n",
       "text      1695\n",
       "date      1695\n",
       "source       1\n",
       "dtype: int64"
      ]
     },
     "execution_count": 165,
     "metadata": {},
     "output_type": "execute_result"
    }
   ],
   "source": [
    "rfe.nunique()"
   ]
  },
  {
   "cell_type": "code",
   "execution_count": 166,
   "metadata": {},
   "outputs": [
    {
     "data": {
      "text/html": [
       "<div>\n",
       "<style scoped>\n",
       "    .dataframe tbody tr th:only-of-type {\n",
       "        vertical-align: middle;\n",
       "    }\n",
       "\n",
       "    .dataframe tbody tr th {\n",
       "        vertical-align: top;\n",
       "    }\n",
       "\n",
       "    .dataframe thead th {\n",
       "        text-align: right;\n",
       "    }\n",
       "</style>\n",
       "<table border=\"1\" class=\"dataframe\">\n",
       "  <thead>\n",
       "    <tr style=\"text-align: right;\">\n",
       "      <th></th>\n",
       "      <th>title</th>\n",
       "      <th>text</th>\n",
       "      <th>date</th>\n",
       "      <th>source</th>\n",
       "    </tr>\n",
       "  </thead>\n",
       "  <tbody>\n",
       "    <tr>\n",
       "      <th>1313</th>\n",
       "      <td>Pančić: Društvo uglednih osuđenika</td>\n",
       "      <td>Piše: Teofil Pančić, (Mišljenja izrečena u kom...</td>\n",
       "      <td>2018-11-01 08:42:26</td>\n",
       "      <td>RFE-USA</td>\n",
       "    </tr>\n",
       "    <tr>\n",
       "      <th>1773</th>\n",
       "      <td>Narodni ili partijski poslanik?</td>\n",
       "      <td>U Srbiji je u toku kampanja Građanske inicijat...</td>\n",
       "      <td>2018-11-01 12:15:46</td>\n",
       "      <td>RFE-USA</td>\n",
       "    </tr>\n",
       "    <tr>\n",
       "      <th>1506</th>\n",
       "      <td>Porošenko: Ruske sankcije kao vrsta 'nagrade'</td>\n",
       "      <td>Ukrajinski predsjednik Petro Porošenko uspored...</td>\n",
       "      <td>2018-11-01 14:05:09</td>\n",
       "      <td>RFE-USA</td>\n",
       "    </tr>\n",
       "    <tr>\n",
       "      <th>1238</th>\n",
       "      <td>SAD: Ubojica iz sinagage se ne 'osjeća krivim'</td>\n",
       "      <td>Vozač kamiona koji je ubio 11 ljudi u sinagogi...</td>\n",
       "      <td>2018-11-01 14:28:59</td>\n",
       "      <td>RFE-USA</td>\n",
       "    </tr>\n",
       "    <tr>\n",
       "      <th>71</th>\n",
       "      <td>Brnabić: Nema konkretnog plana oko Kosova</td>\n",
       "      <td>Premijerka Srbije Ana Brnabić izjavila je dana...</td>\n",
       "      <td>2018-11-01 14:53:20</td>\n",
       "      <td>RFE-USA</td>\n",
       "    </tr>\n",
       "    <tr>\n",
       "      <th>894</th>\n",
       "      <td>Dodik: Srbi neće raditi na štetu Bošnjaka i Hr...</td>\n",
       "      <td>Predsjednik Republike Srpske i novoizabrani sr...</td>\n",
       "      <td>2018-11-01 15:05:41</td>\n",
       "      <td>RFE-USA</td>\n",
       "    </tr>\n",
       "    <tr>\n",
       "      <th>1491</th>\n",
       "      <td>Vučić: Srbija će reagovati na crnogorsku zabranu</td>\n",
       "      <td>Predsjednik Srbije Aleksandar Vučić potvrdio j...</td>\n",
       "      <td>2018-11-01 15:27:00</td>\n",
       "      <td>RFE-USA</td>\n",
       "    </tr>\n",
       "    <tr>\n",
       "      <th>883</th>\n",
       "      <td>Šesti BUNT festival u Beogradu</td>\n",
       "      <td>Šesti muzički festival kamerne muzike BUNT (Be...</td>\n",
       "      <td>2018-11-01 15:29:13</td>\n",
       "      <td>RFE-USA</td>\n",
       "    </tr>\n",
       "    <tr>\n",
       "      <th>273</th>\n",
       "      <td>Vučićeva savetnica Suzana Vasiljević podnela o...</td>\n",
       "      <td>Savetnica za medije predsednika Srbije Suzana ...</td>\n",
       "      <td>2018-11-01 15:52:20</td>\n",
       "      <td>RFE-USA</td>\n",
       "    </tr>\n",
       "    <tr>\n",
       "      <th>1005</th>\n",
       "      <td>Sud u Skoplju blokirao imovinu VMRO DPMNE</td>\n",
       "      <td>Krivični sud u Skoplju potvrdio je da je privr...</td>\n",
       "      <td>2018-11-01 16:44:26</td>\n",
       "      <td>RFE-USA</td>\n",
       "    </tr>\n",
       "  </tbody>\n",
       "</table>\n",
       "</div>"
      ],
      "text/plain": [
       "                                                  title  \\\n",
       "1313                 Pančić: Društvo uglednih osuđenika   \n",
       "1773                    Narodni ili partijski poslanik?   \n",
       "1506      Porošenko: Ruske sankcije kao vrsta 'nagrade'   \n",
       "1238     SAD: Ubojica iz sinagage se ne 'osjeća krivim'   \n",
       "71            Brnabić: Nema konkretnog plana oko Kosova   \n",
       "894   Dodik: Srbi neće raditi na štetu Bošnjaka i Hr...   \n",
       "1491   Vučić: Srbija će reagovati na crnogorsku zabranu   \n",
       "883                      Šesti BUNT festival u Beogradu   \n",
       "273   Vučićeva savetnica Suzana Vasiljević podnela o...   \n",
       "1005          Sud u Skoplju blokirao imovinu VMRO DPMNE   \n",
       "\n",
       "                                                   text                date  \\\n",
       "1313  Piše: Teofil Pančić, (Mišljenja izrečena u kom... 2018-11-01 08:42:26   \n",
       "1773  U Srbiji je u toku kampanja Građanske inicijat... 2018-11-01 12:15:46   \n",
       "1506  Ukrajinski predsjednik Petro Porošenko uspored... 2018-11-01 14:05:09   \n",
       "1238  Vozač kamiona koji je ubio 11 ljudi u sinagogi... 2018-11-01 14:28:59   \n",
       "71    Premijerka Srbije Ana Brnabić izjavila je dana... 2018-11-01 14:53:20   \n",
       "894   Predsjednik Republike Srpske i novoizabrani sr... 2018-11-01 15:05:41   \n",
       "1491  Predsjednik Srbije Aleksandar Vučić potvrdio j... 2018-11-01 15:27:00   \n",
       "883   Šesti muzički festival kamerne muzike BUNT (Be... 2018-11-01 15:29:13   \n",
       "273   Savetnica za medije predsednika Srbije Suzana ... 2018-11-01 15:52:20   \n",
       "1005  Krivični sud u Skoplju potvrdio je da je privr... 2018-11-01 16:44:26   \n",
       "\n",
       "       source  \n",
       "1313  RFE-USA  \n",
       "1773  RFE-USA  \n",
       "1506  RFE-USA  \n",
       "1238  RFE-USA  \n",
       "71    RFE-USA  \n",
       "894   RFE-USA  \n",
       "1491  RFE-USA  \n",
       "883   RFE-USA  \n",
       "273   RFE-USA  \n",
       "1005  RFE-USA  "
      ]
     },
     "execution_count": 166,
     "metadata": {},
     "output_type": "execute_result"
    }
   ],
   "source": [
    "rfe.head(10)"
   ]
  },
  {
   "cell_type": "code",
   "execution_count": 90,
   "metadata": {},
   "outputs": [],
   "source": [
    "rfe.to_csv('rfe_clean.csv', sep=',', encoding='utf-8')"
   ]
  },
  {
   "cell_type": "markdown",
   "metadata": {},
   "source": [
    "## VOA"
   ]
  },
  {
   "cell_type": "code",
   "execution_count": 167,
   "metadata": {},
   "outputs": [],
   "source": [
    "voa = pd.read_csv('voa.csv', sep = '\\t')"
   ]
  },
  {
   "cell_type": "code",
   "execution_count": 168,
   "metadata": {},
   "outputs": [
    {
     "data": {
      "text/html": [
       "<div>\n",
       "<style scoped>\n",
       "    .dataframe tbody tr th:only-of-type {\n",
       "        vertical-align: middle;\n",
       "    }\n",
       "\n",
       "    .dataframe tbody tr th {\n",
       "        vertical-align: top;\n",
       "    }\n",
       "\n",
       "    .dataframe thead th {\n",
       "        text-align: right;\n",
       "    }\n",
       "</style>\n",
       "<table border=\"1\" class=\"dataframe\">\n",
       "  <thead>\n",
       "    <tr style=\"text-align: right;\">\n",
       "      <th></th>\n",
       "      <th>Unnamed: 0</th>\n",
       "      <th>title</th>\n",
       "      <th>date</th>\n",
       "      <th>text</th>\n",
       "      <th>category</th>\n",
       "    </tr>\n",
       "  </thead>\n",
       "  <tbody>\n",
       "    <tr>\n",
       "      <th>0</th>\n",
       "      <td>0</td>\n",
       "      <td>[&lt;h1 class=\"pg-title\"&gt;\\r\\nPosmatrači: Velike a...</td>\n",
       "      <td>[&lt;time datetime=\"2018-11-23T10:33:02+01:00\"&gt;\\r...</td>\n",
       "      <td>[&lt;p&gt;Veliki vojni konvoj iz arapskih zemalja ra...</td>\n",
       "      <td>&lt;div class=\"category\"&gt;\\r\\n&lt;a class=\"\" href=\"/z...</td>\n",
       "    </tr>\n",
       "    <tr>\n",
       "      <th>1</th>\n",
       "      <td>1</td>\n",
       "      <td>[&lt;h1 class=\"pg-title\"&gt;\\r\\nSrbiji solidna trojk...</td>\n",
       "      <td>[&lt;time datetime=\"2018-12-20T21:19:06+01:00\"&gt;\\r...</td>\n",
       "      <td>[&lt;p&gt;&lt;strong&gt;Pristup Srbije reformama u domenim...</td>\n",
       "      <td>&lt;div class=\"category\"&gt;\\r\\n&lt;a class=\"\" href=\"/z...</td>\n",
       "    </tr>\n",
       "    <tr>\n",
       "      <th>2</th>\n",
       "      <td>2</td>\n",
       "      <td>[&lt;h1 class=\"pg-title\"&gt;\\r\\nEK: U Srbiji 42 odst...</td>\n",
       "      <td>[&lt;time datetime=\"2018-12-26T21:38:38+01:00\"&gt;\\r...</td>\n",
       "      <td>[&lt;p&gt;&lt;strong&gt;Poslednja anketa koju je sprovela ...</td>\n",
       "      <td>&lt;div class=\"category\"&gt;\\r\\n&lt;a class=\"\" href=\"/z...</td>\n",
       "    </tr>\n",
       "    <tr>\n",
       "      <th>3</th>\n",
       "      <td>3</td>\n",
       "      <td>[&lt;h1 class=\"pg-title\"&gt;\\r\\nRešena misterija nes...</td>\n",
       "      <td>[&lt;time datetime=\"2017-07-06T19:35:26+01:00\"&gt;\\r...</td>\n",
       "      <td>[&lt;p&gt;Na crnoj beloj fotografiji vidi se žena, l...</td>\n",
       "      <td>&lt;div class=\"category\"&gt;\\r\\n&lt;a class=\"\" href=\"/z...</td>\n",
       "    </tr>\n",
       "    <tr>\n",
       "      <th>4</th>\n",
       "      <td>4</td>\n",
       "      <td>[&lt;h1 class=\"pg-title\"&gt;\\r\\nIzbori u SAD 2018.\\r...</td>\n",
       "      <td>[&lt;time datetime=\"2018-11-05T21:29:00+01:00\"&gt;\\r...</td>\n",
       "      <td>problem</td>\n",
       "      <td>&lt;div class=\"category\"&gt;\\r\\n&lt;a href=\"/z/2086\"&gt;Am...</td>\n",
       "    </tr>\n",
       "    <tr>\n",
       "      <th>5</th>\n",
       "      <td>5</td>\n",
       "      <td>[&lt;h1 class=\"pg-title\"&gt;\\r\\nMej traži od parlame...</td>\n",
       "      <td>[&lt;time datetime=\"2019-02-10T15:18:01+01:00\"&gt;\\r...</td>\n",
       "      <td>[&lt;p&gt;Britanska vlada zatražila je u nedelju od ...</td>\n",
       "      <td>&lt;div class=\"category\"&gt;\\r\\n&lt;a class=\"\" href=\"/z...</td>\n",
       "    </tr>\n",
       "    <tr>\n",
       "      <th>6</th>\n",
       "      <td>6</td>\n",
       "      <td>[&lt;h1 class=\"pg-title\"&gt;\\r\\nBeli božur šefu misi...</td>\n",
       "      <td>[&lt;time datetime=\"2019-01-18T18:04:29+01:00\"&gt;\\r...</td>\n",
       "      <td>[&lt;p&gt;&lt;strong&gt;Udruženje novinara Srbije na Kosov...</td>\n",
       "      <td>&lt;div class=\"category\"&gt;\\r\\n&lt;a class=\"\" href=\"/z...</td>\n",
       "    </tr>\n",
       "    <tr>\n",
       "      <th>7</th>\n",
       "      <td>7</td>\n",
       "      <td>[&lt;h1 class=\"pg-title\"&gt;\\r\\nNovi ministar finans...</td>\n",
       "      <td>[&lt;time datetime=\"2018-05-10T04:44:33+01:00\"&gt;\\r...</td>\n",
       "      <td>[&lt;p&gt;&lt;strong&gt;Kako će biti realizovan i kako će ...</td>\n",
       "      <td>&lt;div class=\"category\"&gt;\\r\\n&lt;a class=\"\" href=\"/z...</td>\n",
       "    </tr>\n",
       "    <tr>\n",
       "      <th>8</th>\n",
       "      <td>8</td>\n",
       "      <td>[&lt;h1 class=\"pg-title\"&gt;\\r\\nTramp: Obustaviti br...</td>\n",
       "      <td>[&lt;time datetime=\"2018-11-10T20:06:43+01:00\"&gt;\\r...</td>\n",
       "      <td>[&lt;p&gt;&lt;strong&gt;Brojanje glasova na Floridi nastav...</td>\n",
       "      <td>&lt;div class=\"category\"&gt;\\r\\n&lt;a class=\"\" href=\"/z...</td>\n",
       "    </tr>\n",
       "    <tr>\n",
       "      <th>9</th>\n",
       "      <td>9</td>\n",
       "      <td>[&lt;h1 class=\"pg-title\"&gt;\\r\\nTužioci o Trampovoj ...</td>\n",
       "      <td>[&lt;time datetime=\"2018-12-08T18:22:08+01:00\"&gt;\\r...</td>\n",
       "      <td>[&lt;p&gt;Tužioci iz Njujorka i specijalni tužilac R...</td>\n",
       "      <td>&lt;div class=\"category\"&gt;\\r\\n&lt;a class=\"\" href=\"/z...</td>\n",
       "    </tr>\n",
       "  </tbody>\n",
       "</table>\n",
       "</div>"
      ],
      "text/plain": [
       "   Unnamed: 0                                              title  \\\n",
       "0           0  [<h1 class=\"pg-title\">\\r\\nPosmatrači: Velike a...   \n",
       "1           1  [<h1 class=\"pg-title\">\\r\\nSrbiji solidna trojk...   \n",
       "2           2  [<h1 class=\"pg-title\">\\r\\nEK: U Srbiji 42 odst...   \n",
       "3           3  [<h1 class=\"pg-title\">\\r\\nRešena misterija nes...   \n",
       "4           4  [<h1 class=\"pg-title\">\\r\\nIzbori u SAD 2018.\\r...   \n",
       "5           5  [<h1 class=\"pg-title\">\\r\\nMej traži od parlame...   \n",
       "6           6  [<h1 class=\"pg-title\">\\r\\nBeli božur šefu misi...   \n",
       "7           7  [<h1 class=\"pg-title\">\\r\\nNovi ministar finans...   \n",
       "8           8  [<h1 class=\"pg-title\">\\r\\nTramp: Obustaviti br...   \n",
       "9           9  [<h1 class=\"pg-title\">\\r\\nTužioci o Trampovoj ...   \n",
       "\n",
       "                                                date  \\\n",
       "0  [<time datetime=\"2018-11-23T10:33:02+01:00\">\\r...   \n",
       "1  [<time datetime=\"2018-12-20T21:19:06+01:00\">\\r...   \n",
       "2  [<time datetime=\"2018-12-26T21:38:38+01:00\">\\r...   \n",
       "3  [<time datetime=\"2017-07-06T19:35:26+01:00\">\\r...   \n",
       "4  [<time datetime=\"2018-11-05T21:29:00+01:00\">\\r...   \n",
       "5  [<time datetime=\"2019-02-10T15:18:01+01:00\">\\r...   \n",
       "6  [<time datetime=\"2019-01-18T18:04:29+01:00\">\\r...   \n",
       "7  [<time datetime=\"2018-05-10T04:44:33+01:00\">\\r...   \n",
       "8  [<time datetime=\"2018-11-10T20:06:43+01:00\">\\r...   \n",
       "9  [<time datetime=\"2018-12-08T18:22:08+01:00\">\\r...   \n",
       "\n",
       "                                                text  \\\n",
       "0  [<p>Veliki vojni konvoj iz arapskih zemalja ra...   \n",
       "1  [<p><strong>Pristup Srbije reformama u domenim...   \n",
       "2  [<p><strong>Poslednja anketa koju je sprovela ...   \n",
       "3  [<p>Na crnoj beloj fotografiji vidi se žena, l...   \n",
       "4                                            problem   \n",
       "5  [<p>Britanska vlada zatražila je u nedelju od ...   \n",
       "6  [<p><strong>Udruženje novinara Srbije na Kosov...   \n",
       "7  [<p><strong>Kako će biti realizovan i kako će ...   \n",
       "8  [<p><strong>Brojanje glasova na Floridi nastav...   \n",
       "9  [<p>Tužioci iz Njujorka i specijalni tužilac R...   \n",
       "\n",
       "                                            category  \n",
       "0  <div class=\"category\">\\r\\n<a class=\"\" href=\"/z...  \n",
       "1  <div class=\"category\">\\r\\n<a class=\"\" href=\"/z...  \n",
       "2  <div class=\"category\">\\r\\n<a class=\"\" href=\"/z...  \n",
       "3  <div class=\"category\">\\r\\n<a class=\"\" href=\"/z...  \n",
       "4  <div class=\"category\">\\r\\n<a href=\"/z/2086\">Am...  \n",
       "5  <div class=\"category\">\\r\\n<a class=\"\" href=\"/z...  \n",
       "6  <div class=\"category\">\\r\\n<a class=\"\" href=\"/z...  \n",
       "7  <div class=\"category\">\\r\\n<a class=\"\" href=\"/z...  \n",
       "8  <div class=\"category\">\\r\\n<a class=\"\" href=\"/z...  \n",
       "9  <div class=\"category\">\\r\\n<a class=\"\" href=\"/z...  "
      ]
     },
     "execution_count": 168,
     "metadata": {},
     "output_type": "execute_result"
    }
   ],
   "source": [
    "voa.head(10)"
   ]
  },
  {
   "cell_type": "code",
   "execution_count": 169,
   "metadata": {},
   "outputs": [],
   "source": [
    "titles = voa['title'].tolist()\n",
    "dates = voa['date'].tolist()\n",
    "texts = voa['text'].tolist()\n",
    "categories = voa['category'].tolist()"
   ]
  },
  {
   "cell_type": "code",
   "execution_count": 170,
   "metadata": {},
   "outputs": [],
   "source": [
    "titles_clean = []\n",
    "for title in titles:\n",
    "    try:\n",
    "        title = re.search('title\">\\\\r\\\\n(.+?)\\\\r\\\\n</h1>', title).group(1)\n",
    "        titles_clean.append(title)\n",
    "    except:\n",
    "        titles_clean.append('no_title')\n",
    "titles_clean[:10]\n",
    "\n",
    "dates_clean = []\n",
    "for date in dates:\n",
    "    try:\n",
    "        date = re.search('datetime=\"(.+?)\">', date).group(1)\n",
    "        dates_clean.append(date)\n",
    "    except:\n",
    "        dates_clean.append('no_date')\n",
    "dates_clean[:10]\n",
    "\n",
    "texts = [re.sub('\\\\r|\\\\n|<.*?>|<.*?>,|</.*?>,|</.*?>| ,|', \"\", text) for text in texts]\n",
    "texts = [re.sub('\\\\.,', \".\", text) for text in texts]\n",
    "texts = [text[1:] for text in texts]\n",
    "texts = [text[:-1] for text in texts]\n",
    "\n",
    "categories_clean = []\n",
    "for category in categories:\n",
    "    try:\n",
    "        category = re.search('href=\"/z/(.+?)</a>', category).group(1)\n",
    "        categories_clean.append(category)\n",
    "    except:\n",
    "        categories_clean.append('no_category')\n",
    "categories_clean = [category[6:] for category in categories_clean]"
   ]
  },
  {
   "cell_type": "code",
   "execution_count": 171,
   "metadata": {},
   "outputs": [],
   "source": [
    "voa = pd.DataFrame({\n",
    "    'title' : titles_clean,\n",
    "    'text' : texts,\n",
    "    'date' : dates_clean, \n",
    "    'category' : categories_clean,\n",
    "})\n",
    "voa = voa[voa.title != 'no_title']\n",
    "voa = voa[voa.date != 'no_date']\n",
    "voa['date'] = pd.to_datetime(voa['date'], format = '%Y-%m-%d')\n",
    "voa.sort_values(by=[\"date\"], inplace= True)\n",
    "start_date = '2018-11-01'\n",
    "end_date = '2019-02-28'\n",
    "mask = (voa['date'] > start_date) & (voa['date'] <= end_date)\n",
    "voa = voa.loc[mask]\n",
    "voa['source'] = 'VOA-USA'"
   ]
  },
  {
   "cell_type": "code",
   "execution_count": 172,
   "metadata": {},
   "outputs": [
    {
     "data": {
      "text/plain": [
       "title       0\n",
       "text        0\n",
       "date        0\n",
       "category    0\n",
       "source      0\n",
       "dtype: int64"
      ]
     },
     "execution_count": 172,
     "metadata": {},
     "output_type": "execute_result"
    }
   ],
   "source": [
    "voa.isna().sum()"
   ]
  },
  {
   "cell_type": "code",
   "execution_count": 173,
   "metadata": {},
   "outputs": [
    {
     "data": {
      "text/plain": [
       "Aktuelno                 543\n",
       "Balkan                    57\n",
       "Amerika                   42\n",
       "Globalne teme             17\n",
       "Društvo                    6\n",
       "Kultura                    3\n",
       "Nauka i tehnologija        2\n",
       "Ekonomija i finansije      1\n",
       "Intervju                   1\n",
       "Name: category, dtype: int64"
      ]
     },
     "execution_count": 173,
     "metadata": {},
     "output_type": "execute_result"
    }
   ],
   "source": [
    "voa['category'].value_counts()"
   ]
  },
  {
   "cell_type": "code",
   "execution_count": 174,
   "metadata": {},
   "outputs": [
    {
     "data": {
      "text/plain": [
       "672"
      ]
     },
     "execution_count": 174,
     "metadata": {},
     "output_type": "execute_result"
    }
   ],
   "source": [
    "len(voa)"
   ]
  },
  {
   "cell_type": "code",
   "execution_count": 175,
   "metadata": {},
   "outputs": [
    {
     "data": {
      "text/plain": [
       "title       672\n",
       "text        671\n",
       "date        672\n",
       "category      9\n",
       "source        1\n",
       "dtype: int64"
      ]
     },
     "execution_count": 175,
     "metadata": {},
     "output_type": "execute_result"
    }
   ],
   "source": [
    "voa.nunique()"
   ]
  },
  {
   "cell_type": "code",
   "execution_count": 176,
   "metadata": {},
   "outputs": [
    {
     "data": {
      "text/plain": [
       "671"
      ]
     },
     "execution_count": 176,
     "metadata": {},
     "output_type": "execute_result"
    }
   ],
   "source": [
    "voa = voa.drop_duplicates('text')\n",
    "len(voa)"
   ]
  },
  {
   "cell_type": "code",
   "execution_count": 178,
   "metadata": {},
   "outputs": [
    {
     "data": {
      "text/plain": [
       "title       0\n",
       "text        0\n",
       "date        0\n",
       "category    0\n",
       "source      0\n",
       "dtype: int64"
      ]
     },
     "execution_count": 178,
     "metadata": {},
     "output_type": "execute_result"
    }
   ],
   "source": [
    "voa.isna().sum()"
   ]
  },
  {
   "cell_type": "code",
   "execution_count": 179,
   "metadata": {},
   "outputs": [
    {
     "data": {
      "text/plain": [
       "Aktuelno                 543\n",
       "Balkan                    57\n",
       "Amerika                   41\n",
       "Globalne teme             17\n",
       "Društvo                    6\n",
       "Kultura                    3\n",
       "Nauka i tehnologija        2\n",
       "Ekonomija i finansije      1\n",
       "Intervju                   1\n",
       "Name: category, dtype: int64"
      ]
     },
     "execution_count": 179,
     "metadata": {},
     "output_type": "execute_result"
    }
   ],
   "source": [
    "voa['category'].value_counts()"
   ]
  },
  {
   "cell_type": "code",
   "execution_count": 180,
   "metadata": {},
   "outputs": [
    {
     "data": {
      "text/html": [
       "<div>\n",
       "<style scoped>\n",
       "    .dataframe tbody tr th:only-of-type {\n",
       "        vertical-align: middle;\n",
       "    }\n",
       "\n",
       "    .dataframe tbody tr th {\n",
       "        vertical-align: top;\n",
       "    }\n",
       "\n",
       "    .dataframe thead th {\n",
       "        text-align: right;\n",
       "    }\n",
       "</style>\n",
       "<table border=\"1\" class=\"dataframe\">\n",
       "  <thead>\n",
       "    <tr style=\"text-align: right;\">\n",
       "      <th></th>\n",
       "      <th>title</th>\n",
       "      <th>text</th>\n",
       "      <th>date</th>\n",
       "      <th>category</th>\n",
       "      <th>source</th>\n",
       "    </tr>\n",
       "  </thead>\n",
       "  <tbody>\n",
       "    <tr>\n",
       "      <th>509</th>\n",
       "      <td>Bolton: Sankcije zamišljene da naštete Iranu, ...</td>\n",
       "      <td>Savetnik za nacionalnu bezbednost SAD, Džon Bo...</td>\n",
       "      <td>2018-11-01 10:45:36</td>\n",
       "      <td>Aktuelno</td>\n",
       "      <td>VOA-USA</td>\n",
       "    </tr>\n",
       "    <tr>\n",
       "      <th>942</th>\n",
       "      <td>Botovi lažnim vestima menjaju politički diskurs</td>\n",
       "      <td>Najveću pretnju po Sjedinjene Države predstavl...</td>\n",
       "      <td>2018-11-01 11:31:04</td>\n",
       "      <td>Aktuelno</td>\n",
       "      <td>VOA-USA</td>\n",
       "    </tr>\n",
       "    <tr>\n",
       "      <th>655</th>\n",
       "      <td>Radnici Gugla protestuju zbog zataškavanja sek...</td>\n",
       "      <td>Stotine zaposlenih u Guglu u Aziji izašlo je s...</td>\n",
       "      <td>2018-11-01 14:34:18</td>\n",
       "      <td>Aktuelno</td>\n",
       "      <td>VOA-USA</td>\n",
       "    </tr>\n",
       "    <tr>\n",
       "      <th>748</th>\n",
       "      <td>Sloboda interneta u 2017: Kontrola, manipulaci...</td>\n",
       "      <td>Vlade širom svijeta pooštravaju kontrolu nad u...</td>\n",
       "      <td>2018-11-01 14:54:17</td>\n",
       "      <td>Aktuelno</td>\n",
       "      <td>VOA-USA</td>\n",
       "    </tr>\n",
       "    <tr>\n",
       "      <th>926</th>\n",
       "      <td>Pronađena crna kutija indonežanskog aviona</td>\n",
       "      <td>Ronioci u Indoneziji su pronašli jednu od crni...</td>\n",
       "      <td>2018-11-01 15:02:58</td>\n",
       "      <td>Aktuelno</td>\n",
       "      <td>VOA-USA</td>\n",
       "    </tr>\n",
       "    <tr>\n",
       "      <th>68</th>\n",
       "      <td>Optuženi za masovno ubistvo u sinagogi negira ...</td>\n",
       "      <td>Robert Bauers, optužen za ubistvo 11 ljudi u s...</td>\n",
       "      <td>2018-11-01 16:20:27</td>\n",
       "      <td>Aktuelno</td>\n",
       "      <td>VOA-USA</td>\n",
       "    </tr>\n",
       "    <tr>\n",
       "      <th>579</th>\n",
       "      <td>Vlada Kosova planira kampanju za zapošljavanje...</td>\n",
       "      <td>Ministarstvo bezbednosnih snaga Kosova uskoro ...</td>\n",
       "      <td>2018-11-01 16:21:08</td>\n",
       "      <td>Balkan</td>\n",
       "      <td>VOA-USA</td>\n",
       "    </tr>\n",
       "    <tr>\n",
       "      <th>311</th>\n",
       "      <td>Tramp tvrdi da su demokrate pustile u zemlju o...</td>\n",
       "      <td>Šest dana pred kongresne izbore, predsednik SA...</td>\n",
       "      <td>2018-11-01 18:19:24</td>\n",
       "      <td>Aktuelno</td>\n",
       "      <td>VOA-USA</td>\n",
       "    </tr>\n",
       "    <tr>\n",
       "      <th>954</th>\n",
       "      <td>\"Azil u SAD će moći da traže samo imigranti ko...</td>\n",
       "      <td>Predsednik Donald Tramp najavio je da njegova ...</td>\n",
       "      <td>2018-11-01 20:51:28</td>\n",
       "      <td>Aktuelno</td>\n",
       "      <td>VOA-USA</td>\n",
       "    </tr>\n",
       "    <tr>\n",
       "      <th>492</th>\n",
       "      <td>Pompeo: SAD bi uskoro mogle da imaju dovoljno ...</td>\n",
       "      <td>Državni sekretar SAD, Majk Pompeo, izjavio je ...</td>\n",
       "      <td>2018-11-02 08:44:39</td>\n",
       "      <td>Aktuelno</td>\n",
       "      <td>VOA-USA</td>\n",
       "    </tr>\n",
       "  </tbody>\n",
       "</table>\n",
       "</div>"
      ],
      "text/plain": [
       "                                                 title  \\\n",
       "509  Bolton: Sankcije zamišljene da naštete Iranu, ...   \n",
       "942    Botovi lažnim vestima menjaju politički diskurs   \n",
       "655  Radnici Gugla protestuju zbog zataškavanja sek...   \n",
       "748  Sloboda interneta u 2017: Kontrola, manipulaci...   \n",
       "926         Pronađena crna kutija indonežanskog aviona   \n",
       "68   Optuženi za masovno ubistvo u sinagogi negira ...   \n",
       "579  Vlada Kosova planira kampanju za zapošljavanje...   \n",
       "311  Tramp tvrdi da su demokrate pustile u zemlju o...   \n",
       "954  \"Azil u SAD će moći da traže samo imigranti ko...   \n",
       "492  Pompeo: SAD bi uskoro mogle da imaju dovoljno ...   \n",
       "\n",
       "                                                  text                date  \\\n",
       "509  Savetnik za nacionalnu bezbednost SAD, Džon Bo... 2018-11-01 10:45:36   \n",
       "942  Najveću pretnju po Sjedinjene Države predstavl... 2018-11-01 11:31:04   \n",
       "655  Stotine zaposlenih u Guglu u Aziji izašlo je s... 2018-11-01 14:34:18   \n",
       "748  Vlade širom svijeta pooštravaju kontrolu nad u... 2018-11-01 14:54:17   \n",
       "926  Ronioci u Indoneziji su pronašli jednu od crni... 2018-11-01 15:02:58   \n",
       "68   Robert Bauers, optužen za ubistvo 11 ljudi u s... 2018-11-01 16:20:27   \n",
       "579  Ministarstvo bezbednosnih snaga Kosova uskoro ... 2018-11-01 16:21:08   \n",
       "311  Šest dana pred kongresne izbore, predsednik SA... 2018-11-01 18:19:24   \n",
       "954  Predsednik Donald Tramp najavio je da njegova ... 2018-11-01 20:51:28   \n",
       "492  Državni sekretar SAD, Majk Pompeo, izjavio je ... 2018-11-02 08:44:39   \n",
       "\n",
       "     category   source  \n",
       "509  Aktuelno  VOA-USA  \n",
       "942  Aktuelno  VOA-USA  \n",
       "655  Aktuelno  VOA-USA  \n",
       "748  Aktuelno  VOA-USA  \n",
       "926  Aktuelno  VOA-USA  \n",
       "68   Aktuelno  VOA-USA  \n",
       "579    Balkan  VOA-USA  \n",
       "311  Aktuelno  VOA-USA  \n",
       "954  Aktuelno  VOA-USA  \n",
       "492  Aktuelno  VOA-USA  "
      ]
     },
     "execution_count": 180,
     "metadata": {},
     "output_type": "execute_result"
    }
   ],
   "source": [
    "voa.head(10)"
   ]
  },
  {
   "cell_type": "code",
   "execution_count": 181,
   "metadata": {},
   "outputs": [],
   "source": [
    "voa.to_csv('voa_clean.csv', sep=',', encoding='utf-8')"
   ]
  }
 ],
 "metadata": {
  "kernelspec": {
   "display_name": "Python 3",
   "language": "python",
   "name": "python3"
  },
  "language_info": {
   "codemirror_mode": {
    "name": "ipython",
    "version": 3
   },
   "file_extension": ".py",
   "mimetype": "text/x-python",
   "name": "python",
   "nbconvert_exporter": "python",
   "pygments_lexer": "ipython3",
   "version": "3.7.4"
  }
 },
 "nbformat": 4,
 "nbformat_minor": 2
}
